{
 "cells": [
  {
   "cell_type": "markdown",
   "metadata": {},
   "source": [
    "## 字符串匹配 "
   ]
  },
  {
   "cell_type": "code",
   "execution_count": 40,
   "metadata": {
    "collapsed": true
   },
   "outputs": [],
   "source": [
    "import re"
   ]
  },
  {
   "cell_type": "markdown",
   "metadata": {},
   "source": [
    "1.完全匹配5个数字"
   ]
  },
  {
   "cell_type": "code",
   "execution_count": 56,
   "metadata": {},
   "outputs": [],
   "source": [
    "s = [\"pya\", \"1\", \"17645\"]\n",
    "pattern = re.compile(\"\\d{5}\")"
   ]
  },
  {
   "cell_type": "code",
   "execution_count": 57,
   "metadata": {},
   "outputs": [
    {
     "name": "stdout",
     "output_type": "stream",
     "text": [
      "17645\n"
     ]
    }
   ],
   "source": [
    "for x in s:\n",
    "    m = pattern.fullmatch(x)\n",
    "    if m:\n",
    "        print(m.string)"
   ]
  },
  {
   "cell_type": "markdown",
   "metadata": {},
   "source": [
    "2.前三个字符是数字"
   ]
  },
  {
   "cell_type": "code",
   "execution_count": 78,
   "metadata": {
    "collapsed": true
   },
   "outputs": [],
   "source": [
    "s = [\"pya12\", \"12345a\", \"176ab\"]\n",
    "pattern = re.compile(\"\\d{3}\")"
   ]
  },
  {
   "cell_type": "code",
   "execution_count": 79,
   "metadata": {},
   "outputs": [
    {
     "name": "stdout",
     "output_type": "stream",
     "text": [
      "12345a\n",
      "176ab\n"
     ]
    }
   ],
   "source": [
    "for x in s:\n",
    "    m = pattern.match(x)\n",
    "    if m:\n",
    "        print(m.string)"
   ]
  },
  {
   "cell_type": "markdown",
   "metadata": {},
   "source": [
    "3.开头是数字"
   ]
  },
  {
   "cell_type": "code",
   "execution_count": 64,
   "metadata": {
    "collapsed": true
   },
   "outputs": [],
   "source": [
    "s = [\"pya12\", \"1a\", \"176ab\"]\n",
    "pattern = re.compile(\"\\d+\")"
   ]
  },
  {
   "cell_type": "code",
   "execution_count": 65,
   "metadata": {},
   "outputs": [
    {
     "name": "stdout",
     "output_type": "stream",
     "text": [
      "1a\n",
      "176ab\n"
     ]
    }
   ],
   "source": [
    "for x in s:\n",
    "    m = pattern.match(x)\n",
    "    if m:\n",
    "        print(m.string)"
   ]
  },
  {
   "cell_type": "markdown",
   "metadata": {},
   "source": [
    "4.开头有且仅有三个数字"
   ]
  },
  {
   "cell_type": "code",
   "execution_count": 109,
   "metadata": {
    "collapsed": true
   },
   "outputs": [],
   "source": [
    "s = [\"pya12\", \"1a\", \"176ab1\", \"12456a\", \"323\"]\n",
    "pattern = re.compile(\"\\d{3}(\\D|$)\")"
   ]
  },
  {
   "cell_type": "code",
   "execution_count": 107,
   "metadata": {
    "scrolled": true
   },
   "outputs": [
    {
     "name": "stdout",
     "output_type": "stream",
     "text": [
      "176ab1\n",
      "323\n"
     ]
    }
   ],
   "source": [
    "for x in s:\n",
    "    m = pattern.match(x)\n",
    "    if m:\n",
    "        print(m.string)"
   ]
  },
  {
   "cell_type": "markdown",
   "metadata": {},
   "source": [
    "5.包含数字字符串的长度为三"
   ]
  },
  {
   "cell_type": "code",
   "execution_count": 119,
   "metadata": {
    "collapsed": true
   },
   "outputs": [],
   "source": [
    "s = [\"pya12\", \"1a\", \"a176ab1\", \"12456a\", \"323\"]\n",
    "pattern = re.compile(\"\\d{3}\")"
   ]
  },
  {
   "cell_type": "code",
   "execution_count": 120,
   "metadata": {},
   "outputs": [
    {
     "name": "stdout",
     "output_type": "stream",
     "text": [
      "a176ab1\n",
      "12456a\n",
      "323\n"
     ]
    }
   ],
   "source": [
    "for x in s:\n",
    "    m = pattern.search(x)\n",
    "    if m:\n",
    "        print(m.string)"
   ]
  },
  {
   "cell_type": "markdown",
   "metadata": {},
   "source": [
    "5.包含数字字符串的最大长度为三"
   ]
  },
  {
   "cell_type": "code",
   "execution_count": 123,
   "metadata": {
    "collapsed": true
   },
   "outputs": [],
   "source": [
    "s = [\"pya12\", \"1a\", \"a176ab1\", \"12456a\", \"323\"]\n",
    "pattern = re.compile(\"(^|\\D)\\d{3}($|\\D)\")"
   ]
  },
  {
   "cell_type": "code",
   "execution_count": 124,
   "metadata": {},
   "outputs": [
    {
     "name": "stdout",
     "output_type": "stream",
     "text": [
      "a176ab1\n",
      "323\n"
     ]
    }
   ],
   "source": [
    "for x in s:\n",
    "    m = pattern.match(x)\n",
    "    if m:\n",
    "        print(m.string)"
   ]
  },
  {
   "cell_type": "code",
   "execution_count": null,
   "metadata": {
    "collapsed": true
   },
   "outputs": [],
   "source": []
  }
 ],
 "metadata": {
  "kernelspec": {
   "display_name": "Python 3",
   "language": "python",
   "name": "python3"
  },
  "language_info": {
   "codemirror_mode": {
    "name": "ipython",
    "version": 3
   },
   "file_extension": ".py",
   "mimetype": "text/x-python",
   "name": "python",
   "nbconvert_exporter": "python",
   "pygments_lexer": "ipython3",
   "version": "3.4.5"
  }
 },
 "nbformat": 4,
 "nbformat_minor": 2
}
