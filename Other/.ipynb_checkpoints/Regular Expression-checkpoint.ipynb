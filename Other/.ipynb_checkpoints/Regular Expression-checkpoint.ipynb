{
 "cells": [
  {
   "cell_type": "markdown",
   "metadata": {},
   "source": [
    "## 字符串匹配 "
   ]
  },
  {
   "cell_type": "code",
   "execution_count": 1,
   "metadata": {},
   "outputs": [],
   "source": [
    "import re"
   ]
  },
  {
   "cell_type": "markdown",
   "metadata": {},
   "source": [
    "## 字符与字符类\n",
    "1. 特殊字符：\\.^$?+*{}[]()|以上特殊字符要想使用字面值，必须使用\\进行转义  \n",
    "2. 字符类  \n",
    "1) 包含在[]中的一个或者多个字符被称为字符类，字符类在匹配时如果没有指定量词则只会匹配其中的一个。  \n",
    "2) 字符类内可以指定范围，比如[a-zA-Z0-9]表示a到z，A到Z，0到9之间的任何一个字符  \n",
    "3) 左方括号后跟随一个^，表示否定一个字符类，比如[^0-9]表示可以匹配一个任意非数字的字符。  \n",
    "4) 字符类内部，除了\\之外，其他特殊字符不再具备特殊意义，都表示字面值。^放在第一个位置表示否定，放在其他位置表示^本身，-放在中间表示范围，放在字符类中的第一个字符，则表示-本身。  \n",
    "5) 字符类内部可以使用速记法，比如\\d \\s \\w  \n",
    "3. 速记法\n",
    ". 可以匹配除换行符之外的任何字符，如果有re.DOTALL标志，则匹配任意字符包括换行  \n",
    "\\d\t匹配一个Unicode数字，如果带re.ASCII，则匹配0-9  \n",
    "\\D 匹配Unicode非数字  \n",
    "\\s\t匹配Unicode空白，如果带有re.ASCII，则匹配\\t\\n\\r\\f\\v中的一个  \n",
    "\\S 匹配Unicode非空白  \n",
    "\\w\t匹配Unicode单词字符，如果带有re.ascii,则匹配[a-zA-Z0-9_]中的一个  \n",
    "\\W 匹配Unicode非单子字符  "
   ]
  },
  {
   "cell_type": "markdown",
   "metadata": {},
   "source": [
    "## 量词 \n",
    "1. ?\t匹配前面的字符0次或1次\n",
    "2. *\t匹配前面的字符0次或多次\n",
    "3. +\t匹配前面的字符1次或者多次\n",
    "4. {m}\t匹配前面表达式m次\n",
    "5. {m,}\t匹配前面表达式至少m次\n",
    "6. {,n}\t匹配前面的正则表达式最多n次\n",
    "7. {m,n}\t匹配前面的正则表达式至少m次，最多n次"
   ]
  },
  {
   "cell_type": "markdown",
   "metadata": {},
   "source": [
    "## 举例"
   ]
  },
  {
   "cell_type": "markdown",
   "metadata": {},
   "source": [
    "1.完全匹配5个数字"
   ]
  },
  {
   "cell_type": "code",
   "execution_count": 56,
   "metadata": {},
   "outputs": [],
   "source": [
    "s = [\"pya\", \"1\", \"17645\"]\n",
    "pattern = re.compile(\"\\d{5}\")"
   ]
  },
  {
   "cell_type": "code",
   "execution_count": 57,
   "metadata": {},
   "outputs": [
    {
     "name": "stdout",
     "output_type": "stream",
     "text": [
      "17645\n"
     ]
    }
   ],
   "source": [
    "for x in s:\n",
    "    m = pattern.fullmatch(x)\n",
    "    if m:\n",
    "        print(m.string)"
   ]
  },
  {
   "cell_type": "markdown",
   "metadata": {},
   "source": [
    "2.前三个字符是数字"
   ]
  },
  {
   "cell_type": "code",
   "execution_count": 78,
   "metadata": {
    "collapsed": true
   },
   "outputs": [],
   "source": [
    "s = [\"pya12\", \"12345a\", \"176ab\"]\n",
    "pattern = re.compile(\"\\d{3}\")"
   ]
  },
  {
   "cell_type": "code",
   "execution_count": 79,
   "metadata": {},
   "outputs": [
    {
     "name": "stdout",
     "output_type": "stream",
     "text": [
      "12345a\n",
      "176ab\n"
     ]
    }
   ],
   "source": [
    "for x in s:\n",
    "    m = pattern.match(x)\n",
    "    if m:\n",
    "        print(m.string)"
   ]
  },
  {
   "cell_type": "markdown",
   "metadata": {},
   "source": [
    "3.开头是数字"
   ]
  },
  {
   "cell_type": "code",
   "execution_count": 64,
   "metadata": {
    "collapsed": true
   },
   "outputs": [],
   "source": [
    "s = [\"pya12\", \"1a\", \"176ab\"]\n",
    "pattern = re.compile(\"\\d+\")"
   ]
  },
  {
   "cell_type": "code",
   "execution_count": 65,
   "metadata": {},
   "outputs": [
    {
     "name": "stdout",
     "output_type": "stream",
     "text": [
      "1a\n",
      "176ab\n"
     ]
    }
   ],
   "source": [
    "for x in s:\n",
    "    m = pattern.match(x)\n",
    "    if m:\n",
    "        print(m.string)"
   ]
  },
  {
   "cell_type": "markdown",
   "metadata": {},
   "source": [
    "4.开头有且仅有三个数字"
   ]
  },
  {
   "cell_type": "code",
   "execution_count": 109,
   "metadata": {
    "collapsed": true
   },
   "outputs": [],
   "source": [
    "s = [\"pya12\", \"1a\", \"176ab1\", \"12456a\", \"323\"]\n",
    "pattern = re.compile(\"\\d{3}(\\D|$)\")"
   ]
  },
  {
   "cell_type": "code",
   "execution_count": 107,
   "metadata": {
    "scrolled": true
   },
   "outputs": [
    {
     "name": "stdout",
     "output_type": "stream",
     "text": [
      "176ab1\n",
      "323\n"
     ]
    }
   ],
   "source": [
    "for x in s:\n",
    "    m = pattern.match(x)\n",
    "    if m:\n",
    "        print(m.string)"
   ]
  },
  {
   "cell_type": "markdown",
   "metadata": {},
   "source": [
    "5.包含数字字符串的长度为三"
   ]
  },
  {
   "cell_type": "code",
   "execution_count": 119,
   "metadata": {
    "collapsed": true
   },
   "outputs": [],
   "source": [
    "s = [\"pya12\", \"1a\", \"a176ab1\", \"12456a\", \"323\"]\n",
    "pattern = re.compile(\"\\d{3}\")"
   ]
  },
  {
   "cell_type": "code",
   "execution_count": 120,
   "metadata": {},
   "outputs": [
    {
     "name": "stdout",
     "output_type": "stream",
     "text": [
      "a176ab1\n",
      "12456a\n",
      "323\n"
     ]
    }
   ],
   "source": [
    "for x in s:\n",
    "    m = pattern.search(x)\n",
    "    if m:\n",
    "        print(m.string)"
   ]
  },
  {
   "cell_type": "markdown",
   "metadata": {},
   "source": [
    "6.包含数字字符串的最大长度为三"
   ]
  },
  {
   "cell_type": "code",
   "execution_count": 123,
   "metadata": {
    "collapsed": true
   },
   "outputs": [],
   "source": [
    "s = [\"pya12\", \"1a\", \"a176ab1\", \"12456a\", \"323\"]\n",
    "pattern = re.compile(\"(^|\\D)\\d{3}($|\\D)\")"
   ]
  },
  {
   "cell_type": "code",
   "execution_count": 124,
   "metadata": {},
   "outputs": [
    {
     "name": "stdout",
     "output_type": "stream",
     "text": [
      "a176ab1\n",
      "323\n"
     ]
    }
   ],
   "source": [
    "for x in s:\n",
    "    m = pattern.match(x)\n",
    "    if m:\n",
    "        print(m.string)"
   ]
  },
  {
   "cell_type": "markdown",
   "metadata": {
    "collapsed": true
   },
   "source": [
    "7.正则返回字典"
   ]
  },
  {
   "cell_type": "code",
   "execution_count": 14,
   "metadata": {},
   "outputs": [
    {
     "data": {
      "text/plain": [
       "{'gender': 'male', 'name': 'lilei'}"
      ]
     },
     "execution_count": 14,
     "metadata": {},
     "output_type": "execute_result"
    }
   ],
   "source": [
    "s = \"name:lilei,gender:male\"\n",
    "pattern = re.compile(\"name:(?P<name>.*),gender:(?P<gender>.*)\")\n",
    "m = pattern.match(s)\n",
    "m.groupdict()"
   ]
  },
  {
   "cell_type": "code",
   "execution_count": null,
   "metadata": {},
   "outputs": [],
   "source": []
  }
 ],
 "metadata": {
  "kernelspec": {
   "display_name": "Python 3",
   "language": "python",
   "name": "python3"
  },
  "language_info": {
   "codemirror_mode": {
    "name": "ipython",
    "version": 3
   },
   "file_extension": ".py",
   "mimetype": "text/x-python",
   "name": "python",
   "nbconvert_exporter": "python",
   "pygments_lexer": "ipython3",
   "version": "3.6.4"
  }
 },
 "nbformat": 4,
 "nbformat_minor": 2
}
