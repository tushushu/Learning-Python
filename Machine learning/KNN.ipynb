{
 "cells": [
  {
   "cell_type": "markdown",
   "metadata": {},
   "source": [
    "## K-nearest neighbors algorithm \n",
    "K近邻算法(KNN)是一种用于分类和回归的非参数化方法。  \n",
    "在KNN分类中，输出是一个类成员。一个对象被它的邻居的按多数选票分类，对象被分配给它k个最近邻中最常见的类。如果k = 1，那么这个对象就被简单地分配给那个最近邻居的类。"
   ]
  },
  {
   "cell_type": "code",
   "execution_count": 17,
   "metadata": {},
   "outputs": [
    {
     "data": {
      "image/png": "[encoded data removed]",
      "text/plain": [
       "<matplotlib.figure.Figure at 0x2210780>"
      ]
     },
     "metadata": {},
     "output_type": "display_data"
    }
   ],
   "source": [
    "import numpy as np\n",
    "import matplotlib.pyplot as plt\n",
    "# Create a dataset\n",
    "X = np.array([[-1, -1], [-2, -1], [-3, -2], [1, 1], [2, 1], [3, 2]])\n",
    "y = np.array([0, 0, 0, 1, 1, 1])\n",
    "x0 = np.array([1, 2])\n",
    "\n",
    "# Scatter plot\n",
    "colors = ['blue' if yi else 'red' for yi in y]\n",
    "plt.scatter(*X.T, color=colors)\n",
    "plt.scatter(*x0, color='black')\n",
    "plt.show()"
   ]
  },
  {
   "cell_type": "markdown",
   "metadata": {},
   "source": [
    "## KNN的简单实现\n",
    "\n",
    "  \n",
    "快速排序算法步骤：\n",
    "1. 选取一个数字作为基准，可选取末位数字\n",
    "2. 将数列第一位开始，依次与此数字比较，如果小于此数，将小数交换到左边，最后达到小于基准数的在左边，大于基准数的在右边，分为两个数组\n",
    "3. 分别对两个数组重复上述步骤\n"
   ]
  },
  {
   "cell_type": "code",
   "execution_count": 70,
   "metadata": {
    "collapsed": true
   },
   "outputs": [],
   "source": [
    "def quick_sort(A, left, right, key):\n",
    "    if left < right:\n",
    "        # step 1\n",
    "        x = A[right]\n",
    "\n",
    "        # step 2\n",
    "        div_index = left\n",
    "        for i in range(left, right):\n",
    "            if key(A[i]) < key(x):\n",
    "                A[div_index], A[i] = A[i], A[div_index]\n",
    "                div_index += 1\n",
    "        A[div_index], A[right] = A[right], A[div_index]\n",
    "\n",
    "        # step 3\n",
    "        quick_sort(A, left, div_index - 1, key)\n",
    "        quick_sort(A, div_index, right, key)\n",
    "    else:\n",
    "        return None\n"
   ]
  },
  {
   "cell_type": "markdown",
   "metadata": {},
   "source": [
    "KNN算法步骤：  \n",
    "1. 计算已知类别数据集中的点与当前点之间的距离；\n",
    "2. 按照距离递增次序排序；\n",
    "3. 选取与当前点距离最小的k个点；\n",
    "4. 确定k个点所在类别的出现频率；"
   ]
  },
  {
   "cell_type": "code",
   "execution_count": 71,
   "metadata": {
    "collapsed": true
   },
   "outputs": [],
   "source": [
    "def simple_knn(x0, X, y, k=2):\n",
    "    # step1\n",
    "    m = len(y)\n",
    "    distances = np.empty(m, dtype=np.float32)\n",
    "    for i, xi in enumerate(X):\n",
    "        distance = 0.0\n",
    "        for x0j, xij in zip(x0, xi):\n",
    "            distance += (x0j - xij) ** 2\n",
    "        distances[i] = distance ** 0.5\n",
    "\n",
    "    # step2\n",
    "    neighbors_idx = np.arange(m)\n",
    "    quick_sort(neighbors_idx, 0, m-1, lambda x: distances[x])\n",
    "    \n",
    "    # step3\n",
    "    knn_idx = neighbors_idx[:k]\n",
    "    \n",
    "    # step4\n",
    "    dic = {}\n",
    "    for i in knn_idx:\n",
    "        if y[i] in dic:\n",
    "            dic[y[i]] += 1\n",
    "        else:\n",
    "            dic[y[i]] = 1\n",
    "    \n",
    "    return max(dic)\n"
   ]
  },
  {
   "cell_type": "code",
   "execution_count": 72,
   "metadata": {
    "collapsed": true
   },
   "outputs": [],
   "source": [
    "from scipy.stats import mode\n",
    "def simple_knn1(x0, X, y, k=2):\n",
    "    return mode(y[(np.sum((X - x0) ** 2, axis=1) ** 0.5).argsort()[:k]])[0]"
   ]
  },
  {
   "cell_type": "code",
   "execution_count": 73,
   "metadata": {},
   "outputs": [
    {
     "name": "stdout",
     "output_type": "stream",
     "text": [
      "y0 is 1\n",
      "y0 is 1\n"
     ]
    }
   ],
   "source": [
    "print(\"y0 is %d\" % simple_knn(x0, X, y, k=3))\n",
    "print(\"y0 is %d\" % simple_knn1(x0, X, y, k=3))"
   ]
  },
  {
   "cell_type": "markdown",
   "metadata": {},
   "source": [
    "##  k-d树\n",
    "k-d树（k-dimensional树的简称），是一种分割k维数据空间的数据结构。主要应用于多维空间关键数据的搜索（如：范围搜索和最近邻搜索）。主要包含如下数据结构：  \n",
    "1. Node-data：数据集中某个数据点，是n维矢量（这里也就是k维）\n",
    "2. Range：该节点所代表的空间范围\n",
    "3. split：垂直于分割超平面的方向轴序号\n",
    "4. Left：由位于该节点分割超平面左子空间内所有数据点所构成的k-d树\n",
    "5. Right：由位于该节点分割超平面右子空间内所有数据点所构成的k-d树\n",
    "6. parent：父节点"
   ]
  },
  {
   "cell_type": "markdown",
   "metadata": {},
   "source": [
    "## k-d树算法步骤\n",
    "1. 确定split域：对于所有描述子数据（特征矢量），统计它们在每个维上的数据方差。挑选出最大值，对应的维就是split域的值。数据方差大表明沿该坐标轴方向上的数据分散得比较开，在这个方向上进行数据分割有较好的分辨率；\n",
    "2. 确定Node-data域：数据点集Data-set按其第split域的值排序。位于正中间的那个数据点被选为Node-data。此时新的Data-set要除去其中Node-data这一点\n",
    "3. 确定左子空间和右子空间。"
   ]
  },
  {
   "cell_type": "code",
   "execution_count": null,
   "metadata": {
    "collapsed": true
   },
   "outputs": [],
   "source": [
    "class Node(object):\n",
    "    def __init__(self, val, split, left, right):\n",
    "        self.val = val\n",
    "        self.rng = \n",
    "        self.split = split\n",
    "        self.left = left\n",
    "        self.right = right"
   ]
  },
  {
   "cell_type": "code",
   "execution_count": null,
   "metadata": {
    "collapsed": true
   },
   "outputs": [],
   "source": [
    "class KdTree(object):\n",
    "    def __init__(self, X):\n",
    "        k = data.shape[1]\n",
    "    \n",
    "    def CreateNode(split, X): \n",
    "        if not X:\n",
    "            return None\n",
    "        data_set.sort(key=lambda x: x[split])\n",
    "        split_pos = len(data_set) // 2\n",
    "        median = data_set[split_pos]        \n",
    "        split_next = (split + 1) % k\n",
    "\n",
    "        # 递归的创建kd树\n",
    "        return KdNode(median, split, \n",
    "                      CreateNode(split_next, data_set[:split_pos]),     # 创建左子树\n",
    "                      CreateNode(split_next, data_set[split_pos + 1:])) # 创建右子树\n",
    "                                \n",
    "        self.root = CreateNode(0, data)         # 从第0维分量开始构建kd树,返回根节点"
   ]
  }
 ],
 "metadata": {
  "kernelspec": {
   "display_name": "Python 3",
   "language": "python",
   "name": "python3"
  },
  "language_info": {
   "codemirror_mode": {
    "name": "ipython",
    "version": 3
   },
   "file_extension": ".py",
   "mimetype": "text/x-python",
   "name": "python",
   "nbconvert_exporter": "python",
   "pygments_lexer": "ipython3",
   "version": "3.4.5"
  }
 },
 "nbformat": 4,
 "nbformat_minor": 2
}
