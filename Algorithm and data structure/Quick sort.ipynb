{
 "cells": [
  {
   "cell_type": "code",
   "execution_count": 10,
   "metadata": {},
   "outputs": [],
   "source": [
    "from collections import deque\n",
    "from random import randint"
   ]
  },
  {
   "cell_type": "code",
   "execution_count": 82,
   "metadata": {},
   "outputs": [],
   "source": [
    "def quick_sort():\n",
    "    nums = [randint(0, 100) for _ in range(100)]\n",
    "    left, right = 0, len(nums) - 1\n",
    "    if left >= right:  \n",
    "        return  None\n",
    "    que = deque()\n",
    "    que.append(left)\n",
    "    que.append(right)\n",
    "    while que:\n",
    "        low = que.popleft() \n",
    "        high = que.popleft()\n",
    "        if high - low <= 0:\n",
    "            print(high, low)\n",
    "            continue  \n",
    "        x = nums[high]\n",
    "        i = low - 1  \n",
    "        for j in range(low, high):  \n",
    "            if nums[j] <= x:  \n",
    "                i += 1  \n",
    "                nums[i], nums[j] = nums[j], nums[i]  \n",
    "        nums[i + 1], nums[high] = nums[high], nums[i + 1]  \n",
    "        que.extend([low, i, i + 2, high])"
   ]
  },
  {
   "cell_type": "code",
   "execution_count": 8,
   "metadata": {},
   "outputs": [],
   "source": [
    "def quick_sort1():\n",
    "    array = [randint(0, 100) for _ in range(100)]\n",
    "    l, r = 0, len(nums) - 1\n",
    "    if l >= r:  \n",
    "        return  \n",
    "    stack = []  \n",
    "    stack.append(l)  \n",
    "    stack.append(r)  \n",
    "    while stack:  \n",
    "        low = stack.pop(0)  \n",
    "        high = stack.pop(0)  \n",
    "        if high - low <= 0:  \n",
    "            continue  \n",
    "        x = array[high]  \n",
    "        i = low - 1  \n",
    "        for j in range(low, high):  \n",
    "            if array[j] <= x:  \n",
    "                i += 1  \n",
    "                array[i], array[j] = array[j], array[i]  \n",
    "        array[i + 1], array[high] = array[high], array[i + 1]  \n",
    "        stack.extend([low, i, i + 2, high])  "
   ]
  },
  {
   "cell_type": "code",
   "execution_count": 84,
   "metadata": {},
   "outputs": [
    {
     "name": "stdout",
     "output_type": "stream",
     "text": [
      "387 µs ± 16.8 µs per loop (mean ± std. dev. of 7 runs, 1000 loops each)\n"
     ]
    }
   ],
   "source": [
    "%timeit quick_sort()"
   ]
  },
  {
   "cell_type": "code",
   "execution_count": 85,
   "metadata": {},
   "outputs": [
    {
     "name": "stdout",
     "output_type": "stream",
     "text": [
      "223 µs ± 25.7 µs per loop (mean ± std. dev. of 7 runs, 1000 loops each)\n"
     ]
    }
   ],
   "source": [
    "%timeit quick_sort1()"
   ]
  },
  {
   "cell_type": "code",
   "execution_count": 15,
   "metadata": {},
   "outputs": [],
   "source": [
    "def quick_sort(nums):\n",
    "    if not nums:\n",
    "        return None\n",
    "    # 初始化队列并传入数组左右边界\n",
    "    que = deque([0, len(nums) - 1])\n",
    "    # 如果队列中有元素\n",
    "    while que:\n",
    "        # 获取队列中的一对左右边界\n",
    "        low = que.popleft()\n",
    "        high = que.popleft()\n",
    "        # 如果下标越界则跳过\n",
    "        if low >= high:\n",
    "            continue\n",
    "        # x作为标杆\n",
    "        x = nums[high]\n",
    "        # i作为所有小于标杆元素的右边界\n",
    "        i = low - 1\n",
    "        # 遍历\n",
    "        for j in range(low, high):\n",
    "            # 元素小于标杆\n",
    "            if nums[j] <= x:\n",
    "                # i右移到大于标杆元素的左边界\n",
    "                i += 1\n",
    "                # 交换大于标杆元素的左边界，和当前这个小于标杆的元素\n",
    "                nums[i], nums[j] = nums[j], nums[i]\n",
    "        # 标杆元素与大于标杆元素的左边界元素进行交换\n",
    "        nums[i + 1], nums[high] = nums[high], nums[i + 1]\n",
    "        # 取两个数组的左右边界写入队列\n",
    "        # 注意如果元素都大于标杆那么i有可能小于low，反之i + 2也可能大于high\n",
    "        # 所以要通过\"if low >= high: continue\"这句来控制数据越界的情况\n",
    "        que.extend([low, i, i + 2, high])\n"
   ]
  },
  {
   "cell_type": "code",
   "execution_count": 90,
   "metadata": {},
   "outputs": [],
   "source": [
    "def quick_sort1(array):\n",
    "    l, r = 0, len(nums) - 1\n",
    "    if l >= r:  \n",
    "        return  \n",
    "    stack = []  \n",
    "    stack.append(l)  \n",
    "    stack.append(r)  \n",
    "    while stack:  \n",
    "        low = stack.pop(0)  \n",
    "        high = stack.pop(0)  \n",
    "        if high - low <= 0:  \n",
    "            continue  \n",
    "        x = array[high]  \n",
    "        i = low - 1  \n",
    "        for j in range(low, high):  \n",
    "            if array[j] <= x:  \n",
    "                i += 1  \n",
    "                array[i], array[j] = array[j], array[i]  \n",
    "        array[i + 1], array[high] = array[high], array[i + 1]  \n",
    "        stack.extend([low, i, i + 2, high])  "
   ]
  },
  {
   "cell_type": "code",
   "execution_count": 18,
   "metadata": {},
   "outputs": [
    {
     "data": {
      "text/plain": [
       "[0, 12, 12, 30, 32, 39, 40, 42, 50, 55, 62, 64, 66, 71, 71, 72, 73, 75, 75, 78]"
      ]
     },
     "execution_count": 18,
     "metadata": {},
     "output_type": "execute_result"
    }
   ],
   "source": [
    "nums = [randint(0, 100) for _ in range(20)]\n",
    "quick_sort(nums)\n",
    "nums"
   ]
  },
  {
   "cell_type": "code",
   "execution_count": 4,
   "metadata": {},
   "outputs": [
    {
     "name": "stdout",
     "output_type": "stream",
     "text": [
      "deque([1, 2])\n"
     ]
    }
   ],
   "source": [
    "a = deque([1,2])\n",
    "print(a)"
   ]
  },
  {
   "cell_type": "code",
   "execution_count": 7,
   "metadata": {},
   "outputs": [
    {
     "ename": "TypeError",
     "evalue": "popleft() takes no arguments (1 given)",
     "output_type": "error",
     "traceback": [
      "\u001b[1;31m---------------------------------------------------------------------------\u001b[0m",
      "\u001b[1;31mTypeError\u001b[0m                                 Traceback (most recent call last)",
      "\u001b[1;32m<ipython-input-7-5877934dcb16>\u001b[0m in \u001b[0;36m<module>\u001b[1;34m()\u001b[0m\n\u001b[1;32m----> 1\u001b[1;33m \u001b[0mhelp\u001b[0m\u001b[1;33m(\u001b[0m\u001b[0ma\u001b[0m\u001b[1;33m.\u001b[0m\u001b[0mpopleft\u001b[0m\u001b[1;33m(\u001b[0m\u001b[1;36m1\u001b[0m\u001b[1;33m)\u001b[0m\u001b[1;33m)\u001b[0m\u001b[1;33m\u001b[0m\u001b[0m\n\u001b[0m",
      "\u001b[1;31mTypeError\u001b[0m: popleft() takes no arguments (1 given)"
     ]
    }
   ],
   "source": [
    "help(a.popleft())"
   ]
  },
  {
   "cell_type": "code",
   "execution_count": null,
   "metadata": {},
   "outputs": [],
   "source": []
  }
 ],
 "metadata": {
  "kernelspec": {
   "display_name": "Python 3",
   "language": "python",
   "name": "python3"
  },
  "language_info": {
   "codemirror_mode": {
    "name": "ipython",
    "version": 3
   },
   "file_extension": ".py",
   "mimetype": "text/x-python",
   "name": "python",
   "nbconvert_exporter": "python",
   "pygments_lexer": "ipython3",
   "version": "3.6.4"
  }
 },
 "nbformat": 4,
 "nbformat_minor": 2
}
