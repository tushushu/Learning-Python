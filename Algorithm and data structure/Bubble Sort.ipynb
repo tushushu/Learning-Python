{
 "cells": [
  {
   "cell_type": "markdown",
   "metadata": {},
   "source": [
    "# Bubble Sort"
   ]
  },
  {
   "cell_type": "markdown",
   "metadata": {},
   "source": [
    "## 1. Defination\n",
    "Bubble sort, sometimes referred to as sinking sort, is a simple sorting algorithm that repeatedly steps through the list to be sorted, compares each pair of adjacent items and swaps them if they are in the wrong order. The pass through the list is repeated until no swaps are needed, which indicates that the list is sorted."
   ]
  },
  {
   "cell_type": "markdown",
   "metadata": {},
   "source": [
    "## 2. Performance\n",
    "Bubble sort has worst-case and average complexity both О(n2), where n is the number of items being sorted. There exist many sorting algorithms, such as merge sort with substantially better worst-case or average complexity of O(n log n). Even other О(n2) sorting algorithms, such as insertion sort, tend to have better performance than bubble sort. Therefore, bubble sort is not a practical sorting algorithm when n is large."
   ]
  },
  {
   "cell_type": "markdown",
   "metadata": {},
   "source": [
    "$C_{max} = n-1 + n-2 +...+ 2 + 1 + 0 = n(n-1) / 2$\n",
    "\n",
    "$C_{min} = n-1$"
   ]
  },
  {
   "cell_type": "markdown",
   "metadata": {},
   "source": [
    "## 3. Step-by-step example\n",
    "Let us take the array of numbers \"5 1 4 2 8\", and sort the array from lowest number to greatest number using bubble sort. In each step, elements written in bold are being compared. Three passes will be required.\n",
    "\n",
    "First Pass  \n",
    "( 5 1 4 2 8 ) →  ( 1 5 4 2 8 ), Here, algorithm compares the first two elements, and swaps since 5 > 1.  \n",
    "( 1 5 4 2 8 ) →  ( 1 4 5 2 8 ), Swap since 5 > 4  \n",
    "( 1 4 5 2 8 ) →  ( 1 4 2 5 8 ), Swap since 5 > 2  \n",
    "( 1 4 2 5 8 ) →  ( 1 4 2 5 8 ), Now, since these elements are already in order (8 > 5), algorithm does not swap them.\n",
    "\n",
    "Second Pass  \n",
    "( 1 4 2 5 8 ) →  ( 1 4 2 5 8 )  \n",
    "( 1 4 2 5 8 ) →  ( 1 2 4 5 8 ), Swap since 4 > 2  \n",
    "( 1 2 4 5 8 ) →  ( 1 2 4 5 8 )  \n",
    "( 1 2 4 5 8 ) →  ( 1 2 4 5 8 )\n",
    "\n",
    "Now, the array is already sorted, but the algorithm does not know if it is completed. The algorithm needs one whole pass without any swap to know it is sorted.\n",
    "\n",
    "Third Pass  \n",
    "( 1 2 4 5 8 ) →  ( 1 2 4 5 8 )  \n",
    "( 1 2 4 5 8 ) →  ( 1 2 4 5 8 )  \n",
    "( 1 2 4 5 8 ) →  ( 1 2 4 5 8 )  \n",
    "( 1 2 4 5 8 ) →  ( 1 2 4 5 8 )"
   ]
  },
  {
   "cell_type": "markdown",
   "metadata": {},
   "source": [
    "## Range and list\n",
    "Range has to generate an integer object every time you access an index, whereas list is a static list and the integers are already \"there\" to use.   \n",
    "\n",
    "That means that if you have a really gigantic range you'd like to generate a list for, say one billion, range is the function to use. This is especially true if you have a really memory sensitive system such as a cell phone that you are working with, as list will use as much memory as it can to create your array of integers, which can result in a MemoryError and crash your program. "
   ]
  },
  {
   "cell_type": "code",
   "execution_count": 4,
   "metadata": {},
   "outputs": [
    {
     "name": "stdout",
     "output_type": "stream",
     "text": [
      "The size of a is 9112\n",
      "The type of a is <class 'list'>\n",
      "\n",
      "The size of b is 48\n",
      "The type of b is <class 'range'>\n"
     ]
    }
   ],
   "source": [
    "from sys import getsizeof\n",
    "\n",
    "a = list(range(1000))\n",
    "print(\"The size of a is\", getsizeof(a))\n",
    "print(\"The type of a is\", type(a))\n",
    "print()\n",
    "\n",
    "\n",
    "b = range(1000)\n",
    "print(\"The size of b is\", getsizeof(b))\n",
    "print(\"The type of b is\", type(b))"
   ]
  },
  {
   "cell_type": "markdown",
   "metadata": {},
   "source": [
    "## 5. Implement test function"
   ]
  },
  {
   "cell_type": "code",
   "execution_count": 5,
   "metadata": {
    "collapsed": true
   },
   "outputs": [],
   "source": [
    "import numpy as np\n",
    "from numpy.random import randint\n",
    "\n",
    "def test(func, n_test = 10):\n",
    "    for i in range(n_test):\n",
    "        A = randint(low = 0, high = 20, size = 10, dtype = 'int32')\n",
    "        B = np.sort(A)\n",
    "        func(A)\n",
    "        assert np.all(A == B),\\\n",
    "        \"Array is not sorted correctly!\"\n",
    "    print(\"Test passed\")"
   ]
  },
  {
   "cell_type": "markdown",
   "metadata": {},
   "source": [
    "## 6. Implemente bubble sort"
   ]
  },
  {
   "cell_type": "code",
   "execution_count": 6,
   "metadata": {},
   "outputs": [
    {
     "name": "stdout",
     "output_type": "stream",
     "text": [
      "Test passed\n"
     ]
    }
   ],
   "source": [
    "def bubble_sort(A):\n",
    "    L = len(A)  # Calculate the length of array A\n",
    "    for i in range(1, L):  # Iterate through the array\n",
    "        j = L - 1\n",
    "        swap_cnt = 0\n",
    "\n",
    "        while j >= i:  # Loop from right to left over to A[i]\n",
    "            if A[j] < A[j-1]:  # Swap if it's a reverse order\n",
    "                A[j], A[j-1] = A[j-1], A[j]\n",
    "                swap_cnt += 1\n",
    "            j = j-1\n",
    "\n",
    "        if swap_cnt == 0:  # Break if nothing swapped\n",
    "            break\n",
    "\n",
    "    return None\n",
    "\n",
    "\n",
    "#test\n",
    "test(bubble_sort)"
   ]
  },
  {
   "cell_type": "markdown",
   "metadata": {},
   "source": [
    "## 7. Implemente descending bubble sort"
   ]
  },
  {
   "cell_type": "code",
   "execution_count": 1,
   "metadata": {},
   "outputs": [],
   "source": [
    "# TODO: Implement Function\n",
    "def bubble_sort_desc(A):\n",
    "\n",
    "    return None\n"
   ]
  },
  {
   "cell_type": "code",
   "execution_count": null,
   "metadata": {
    "collapsed": true
   },
   "outputs": [],
   "source": []
  }
 ],
 "metadata": {
  "kernelspec": {
   "display_name": "Python 3",
   "language": "python",
   "name": "python3"
  },
  "language_info": {
   "codemirror_mode": {
    "name": "ipython",
    "version": 3
   },
   "file_extension": ".py",
   "mimetype": "text/x-python",
   "name": "python",
   "nbconvert_exporter": "python",
   "pygments_lexer": "ipython3",
   "version": "3.6.3"
  }
 },
 "nbformat": 4,
 "nbformat_minor": 2
}
