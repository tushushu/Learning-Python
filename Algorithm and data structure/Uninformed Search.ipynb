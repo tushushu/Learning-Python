{
 "cells": [
  {
   "cell_type": "markdown",
   "metadata": {},
   "source": [
    "## 图的定义 \n",
    "图是由顶点集V和边E组成。每一条边就是一个点对（v,w)。如果点对是有序的（每一个点的下一个点是固定的），那么图被称为有向图，否则就是无向图。有的时候边还有权值。\n",
    "图的路径是指一个顶点序列，v1,v2,v3,v4....vn，这条路径的长是这条路径的边数，等于n-1。"
   ]
  },
  {
   "cell_type": "markdown",
   "metadata": {},
   "source": [
    "## 邻接矩阵 \n",
    "图的邻接矩阵存储方式是用两个数组来表示图。一个一维数组存储图中顶点信息，一个二维数组（邻接矩阵）存储图中的边或弧的信息。 "
   ]
  },
  {
   "cell_type": "markdown",
   "metadata": {},
   "source": [
    "![标量乘法](pic/邻接矩阵.png)"
   ]
  },
  {
   "cell_type": "code",
   "execution_count": 18,
   "metadata": {},
   "outputs": [],
   "source": [
    "class graph1(object):\n",
    "    def __init__(self):\n",
    "        self.matrix = []\n",
    "        self.length = 0\n",
    "\n",
    "    def add_vertex(self,n_vertex):\n",
    "        m = self.length\n",
    "        for i in range(m):\n",
    "            self.matrix[i].extend([0] * n_vertex)\n",
    "        for i in range(n_vertex):\n",
    "            self.matrix.append([0] * (m + n_vertex))\n",
    "        self.length = m + n_vertex\n",
    "\n",
    "    def add_edge(self,edge):\n",
    "        row,col = edge\n",
    "        self.matrix[row][col] = 1\n",
    "        self.matrix[col][row] = 1\n"
   ]
  },
  {
   "cell_type": "code",
   "execution_count": 19,
   "metadata": {},
   "outputs": [],
   "source": [
    "test1 = graph1()"
   ]
  },
  {
   "cell_type": "code",
   "execution_count": 20,
   "metadata": {},
   "outputs": [
    {
     "data": {
      "text/plain": [
       "[[0, 0, 0, 0, 0],\n",
       " [0, 0, 0, 0, 0],\n",
       " [0, 0, 0, 0, 0],\n",
       " [0, 0, 0, 0, 0],\n",
       " [0, 0, 0, 0, 0]]"
      ]
     },
     "execution_count": 20,
     "metadata": {},
     "output_type": "execute_result"
    }
   ],
   "source": [
    "test1.add_vertex(5)\n",
    "test1.matrix"
   ]
  },
  {
   "cell_type": "code",
   "execution_count": 21,
   "metadata": {},
   "outputs": [
    {
     "data": {
      "text/plain": [
       "[[0, 1, 0, 0, 1],\n",
       " [1, 0, 1, 0, 0],\n",
       " [0, 1, 0, 1, 0],\n",
       " [0, 0, 1, 0, 0],\n",
       " [1, 0, 0, 0, 0]]"
      ]
     },
     "execution_count": 21,
     "metadata": {},
     "output_type": "execute_result"
    }
   ],
   "source": [
    "test1.add_edge([0,1])\n",
    "test1.add_edge([1,2])\n",
    "test1.add_edge([2,3])\n",
    "test1.add_edge([0,4])\n",
    "test1.matrix"
   ]
  },
  {
   "cell_type": "markdown",
   "metadata": {},
   "source": [
    "## 邻接表 \n",
    "邻接矩阵是不错的一种图存储结构，但是，对于边数相对顶点较少的图，这种结构存在对存储空间的极大浪费。因此，找到一种数组与链表相结合的存储方法称为邻接表。"
   ]
  },
  {
   "cell_type": "markdown",
   "metadata": {},
   "source": [
    "![标量乘法](pic/邻接表.png)"
   ]
  },
  {
   "cell_type": "code",
   "execution_count": 14,
   "metadata": {},
   "outputs": [],
   "source": [
    "class Node():\n",
    "    def __init__(self):\n",
    "        self.next = set()\n",
    "        self.color = \"white\"\n"
   ]
  },
  {
   "cell_type": "code",
   "execution_count": 15,
   "metadata": {},
   "outputs": [
    {
     "data": {
      "text/plain": [
       "'white'"
      ]
     },
     "execution_count": 15,
     "metadata": {},
     "output_type": "execute_result"
    }
   ],
   "source": [
    "test2 = Node()\n",
    "test2.color"
   ]
  },
  {
   "cell_type": "code",
   "execution_count": 16,
   "metadata": {},
   "outputs": [
    {
     "data": {
      "text/plain": [
       "90314736"
      ]
     },
     "execution_count": 16,
     "metadata": {},
     "output_type": "execute_result"
    }
   ],
   "source": [
    "id(test2)"
   ]
  },
  {
   "cell_type": "code",
   "execution_count": 17,
   "metadata": {},
   "outputs": [],
   "source": [
    "class graph(object):\n",
    "    def __init__(self):\n",
    "        \"\"\"[summary]\n",
    "        e.g.\n",
    "        If there are three egdes:\n",
    "        0→1, 0→2, 2→3\n",
    "        then the dictionary of graph will be like this:\n",
    "        Node(0).next {Node(1), Node(2)}\n",
    "        Node(1).next: {Node(0)}\n",
    "        Node(2).next: {Node(0), Node(3)}\n",
    "        Node(3).next: {Node(2)}\n",
    "        \"\"\"\n",
    "        self.nodes = {}\n",
    "\n",
    "    def add_edge(self, start, end):\n",
    "        \"\"\"[summary]\n",
    "        Add an edge into the graph\n",
    "\n",
    "        Arguments:\n",
    "            start {int} -- start node number of the edge\n",
    "            end {int} -- end node number of the edge\n",
    "        \"\"\"\n",
    "        nodes = self.nodes\n",
    "        # {start node number: end node}\n",
    "        if nodes.get(start):\n",
    "            nodes[start].next.add(end)\n",
    "        else:\n",
    "            nodes[start] = Node()\n",
    "            nodes[start].next = set([end])\n",
    "        # {end node number: start node}\n",
    "        if nodes.get(end):\n",
    "            nodes[end].next.add(start)\n",
    "        else:\n",
    "            nodes[end] = Node()\n",
    "            nodes[end].next = set([start])"
   ]
  },
  {
   "cell_type": "code",
   "execution_count": 25,
   "metadata": {},
   "outputs": [
    {
     "name": "stdout",
     "output_type": "stream",
     "text": [
      "0 {1, 4} white\n",
      "1 {0, 2} white\n",
      "2 {1, 3} white\n",
      "3 {2} white\n",
      "4 {0} white\n"
     ]
    }
   ],
   "source": [
    "test3 = graph()\n",
    "test3.add_edge(0,1)\n",
    "test3.add_edge(1,2)\n",
    "test3.add_edge(2,3)\n",
    "test3.add_edge(0,4)\n",
    "for k, v in test3.nodes.items():\n",
    "    print(k, v.next, v.color)"
   ]
  },
  {
   "cell_type": "code",
   "execution_count": null,
   "metadata": {},
   "outputs": [],
   "source": []
  },
  {
   "cell_type": "markdown",
   "metadata": {},
   "source": [
    "![标量乘法](pic/Route Finding.png)"
   ]
  },
  {
   "cell_type": "code",
   "execution_count": 26,
   "metadata": {},
   "outputs": [],
   "source": [
    "# Build graph\n",
    "edges = [\n",
    "    [0, 1],\n",
    "    [1, 2],\n",
    "    [2, 3],\n",
    "    [3, 4],\n",
    "    [4, 5],\n",
    "    [5, 6],\n",
    "    [0, 7],\n",
    "    [2, 7],\n",
    "    [6, 9],\n",
    "    [7, 8],\n",
    "    [8, 9],\n",
    "    [7, 10],\n",
    "    [8, 11],\n",
    "    [9, 11],\n",
    "    [10, 13],\n",
    "    [11, 13],\n",
    "    [13, 14],\n",
    "    [13, 17],\n",
    "    [12, 15],\n",
    "    [15, 16],\n",
    "    [16, 17],\n",
    "    [17, 18],\n",
    "    [18, 19],\n",
    "]\n",
    "rome_graph = graph()\n",
    "for edge in edges:\n",
    "    rome_graph.add_edge(*edge)"
   ]
  },
  {
   "cell_type": "code",
   "execution_count": 28,
   "metadata": {},
   "outputs": [
    {
     "name": "stdout",
     "output_type": "stream",
     "text": [
      "0 {1, 7}\n",
      "1 {0, 2}\n",
      "2 {1, 3, 7}\n",
      "3 {2, 4}\n",
      "4 {3, 5}\n",
      "5 {4, 6}\n",
      "6 {9, 5}\n",
      "7 {0, 8, 2, 10}\n",
      "9 {8, 11, 6}\n",
      "8 {9, 11, 7}\n",
      "10 {13, 7}\n",
      "11 {8, 9, 13}\n",
      "13 {17, 10, 11, 14}\n",
      "14 {13}\n",
      "17 {16, 18, 13}\n",
      "12 {15}\n",
      "15 {16, 12}\n",
      "16 {17, 15}\n",
      "18 {17, 19}\n",
      "19 {18}\n"
     ]
    }
   ],
   "source": [
    "for k, v in rome_graph.nodes.items():\n",
    "    print(k, v.next)"
   ]
  },
  {
   "cell_type": "markdown",
   "metadata": {},
   "source": [
    "如何入队，出队  \n",
    "0-{1,2}  \n",
    "1-{3,4}  \n",
    "2-{5,6}  \n",
    "\n",
    "\n",
    "```\n",
    "[0] \n",
    "[[0],[0,1],[0,2]]\n",
    "[[0,1],[0,2]]\n",
    "[[0,1],[0,2],[0,1,3],[0,1,4]]\n",
    "[[0,2],[0,1,3],[0,1,4]]\n",
    "[[0,2],[0,1,3],[0,1,4],[0,2,5],[0,2,6]]\n",
    "[[0,1,3],[0,1,4],[0,2,5],[0,2,6]]\n",
    "```"
   ]
  },
  {
   "cell_type": "markdown",
   "metadata": {},
   "source": [
    "如何入栈，出栈  \n",
    "0-{1,2}  \n",
    "1-{3,4}  \n",
    "2-{5,6}  \n",
    "\n",
    "\n",
    "```\n",
    "[0]\n",
    "[0, 1]\n",
    "[0, 1, 3]\n",
    "[0, 1]\n",
    "[0, 1, 4]\n",
    "[0, 1]\n",
    "[0]\n",
    "[0, 2]\n",
    "[0, 2, 5]\n",
    "[0, 2]\n",
    "[0, 2, 6]\n",
    "[0, 2]\n",
    "[0]\n",
    "[]\n"
   ]
  },
  {
   "cell_type": "code",
   "execution_count": null,
   "metadata": {},
   "outputs": [],
   "source": [
    "# -*- coding: utf-8 -*-\n",
    "\"\"\"\n",
    "@Author: liu\n",
    "@Date: 2018-05-07 20:40:47\n",
    "@Last Modified by: liu\n",
    "@Last Modified time: 2018-05-07 20:40:47\n",
    "\"\"\"\n",
    "\n",
    "\n",
    "class Node():\n",
    "    def __init__(self):\n",
    "        self.next = set()\n",
    "        self.color = \"white\"\n",
    "\n",
    "\n",
    "class graph(object):\n",
    "    def __init__(self):\n",
    "        \"\"\"[summary]\n",
    "        e.g.\n",
    "        If there are three egdes:\n",
    "        0→1, 0→2, 2→3\n",
    "        then the dictionary of graph will be like this:\n",
    "        Node(0).next {Node(1), Node(2)}\n",
    "        Node(1).next: {Node(0)}\n",
    "        Node(2).next: {Node(0), Node(3)\n",
    "        Node(3).next: {Node(2)}\n",
    "        \"\"\"\n",
    "        self.nodes = {}\n",
    "\n",
    "    def add_edge(self, start, end):\n",
    "        \"\"\"[summary]\n",
    "        Add an edge into the graph\n",
    "\n",
    "        Arguments:\n",
    "            start {int} -- start node number of the edge\n",
    "            end {int} -- end node number of the edge\n",
    "        \"\"\"\n",
    "        nodes = self.nodes\n",
    "        # {start node number: end node}\n",
    "        if nodes.get(start):\n",
    "            nodes[start].next.add(end)\n",
    "        else:\n",
    "            nodes[start] = Node()\n",
    "            nodes[start].next = set([end])\n",
    "        # {end node number: start node}\n",
    "        if nodes.get(end):\n",
    "            nodes[end].next.add(start)\n",
    "        else:\n",
    "            nodes[end] = Node()\n",
    "            nodes[end].next = set([start])\n",
    "\n",
    "    def reset_color(self):\n",
    "        \"\"\"[summary]\n",
    "        Reset the colors of all nodes\n",
    "        \"\"\"\n",
    "        for node in self.nodes.values():\n",
    "            node.color = \"white\"\n",
    "\n",
    "    def bfs(self, start, target):\n",
    "        \"\"\"[summary]\n",
    "        Search the nearest path from start to target\n",
    "        Arguments:\n",
    "            start {int} -- start node number\n",
    "            target {int} -- target node number\n",
    "\n",
    "        Returns:\n",
    "            list -- the nearest path from start to target\n",
    "        \"\"\"\n",
    "        nodes = self.nodes\n",
    "        # Terminate earlier\n",
    "        if start not in nodes or target not in nodes:\n",
    "            return None\n",
    "        # Record paths, 2D list\n",
    "        que = [[start]]\n",
    "        # Search the graph\n",
    "        while que:\n",
    "            # Visit the child nodes of the first node in the que\n",
    "            current_node_num = que[0][-1]\n",
    "            child_node_nums = nodes[current_node_num].next\n",
    "            for child_node_num in child_node_nums:\n",
    "                # Append them together if the child node's not explored\n",
    "                if nodes[child_node_num].color == \"white\":\n",
    "                    que.append(que[0] + [child_node_num])\n",
    "                # Target found\n",
    "                if child_node_num == target:\n",
    "                    self.reset_color()\n",
    "                    return que[-1]\n",
    "            # Pop first node in the que and marked as explored\n",
    "            nodes[current_node_num].color = \"black\"\n",
    "            que.pop(0)\n",
    "        # Not found\n",
    "        self.reset_color()\n",
    "        return None\n",
    "\n",
    "    def dfs(self, start, target):\n",
    "        \"\"\"[summary]\n",
    "        Search the one path from start to target\n",
    "        Arguments:\n",
    "            start {int} -- start node number\n",
    "            target {int} -- target node number\n",
    "\n",
    "        Returns:\n",
    "            list -- one path from start to target\n",
    "        \"\"\"\n",
    "        nodes = self.nodes\n",
    "        # Terminate earlier\n",
    "        if start not in nodes or target not in nodes:\n",
    "            return None\n",
    "        # Record paths, 1D list\n",
    "        stack = [start]\n",
    "        nodes[start].color = \"gray\"\n",
    "        # Search the graph\n",
    "        while stack:\n",
    "            # Visit the child node of the last node in the stack\n",
    "            current_node_num = stack[-1]\n",
    "            # get its child\n",
    "            child_node_nums = nodes[current_node_num].next\n",
    "            # set up a flag to check if there is any while child\n",
    "            has_while_child = False\n",
    "            for child_node_num in child_node_nums:\n",
    "                # Append while child to path\n",
    "                if nodes[child_node_num].color == \"white\":\n",
    "                    has_while_child = True\n",
    "                    stack.append(child_node_num)\n",
    "                    # Mark child node as explored\n",
    "                    nodes[child_node_num].color = \"gray\"\n",
    "                    break\n",
    "            # Mark current node as fully explored\n",
    "            if not has_while_child:\n",
    "                nodes[child_node_num].color == \"black\"\n",
    "                stack.pop()\n",
    "            # Target found\n",
    "            if child_node_num == target:\n",
    "                self.reset_color()\n",
    "                return stack\n",
    "        # Not found\n",
    "        self.reset_color()\n",
    "        return None\n",
    "\n",
    "\n",
    "if __name__ == '__main__':\n",
    "    # Build graph\n",
    "    edges = [\n",
    "        [0, 1],\n",
    "        [1, 2],\n",
    "        [2, 3],\n",
    "        [3, 4],\n",
    "        [4, 5],\n",
    "        [5, 6],\n",
    "        [0, 7],\n",
    "        [2, 7],\n",
    "        [6, 9],\n",
    "        [7, 8],\n",
    "        [8, 9],\n",
    "        [7, 10],\n",
    "        [8, 11],\n",
    "        [9, 11],\n",
    "        [10, 13],\n",
    "        [11, 13],\n",
    "        [13, 14],\n",
    "        [13, 17],\n",
    "        [12, 15],\n",
    "        [15, 16],\n",
    "        [16, 17],\n",
    "        [17, 18],\n",
    "        [18, 19],\n",
    "    ]\n",
    "    rome_graph = graph()\n",
    "    for edge in edges:\n",
    "        rome_graph.add_edge(*edge)\n",
    "    # Search path\n",
    "    start, target = 2, 13\n",
    "    print(\"The bfs path from {start} to {target} is:\".format(\n",
    "        start=start, target=target), rome_graph.bfs(start, target))\n",
    "\n",
    "    print(\"The dfs path from {start} to {target} is:\".format(\n",
    "        start=start, target=target), rome_graph.dfs(start, target))\n"
   ]
  }
 ],
 "metadata": {
  "kernelspec": {
   "display_name": "Python 3",
   "language": "python",
   "name": "python3"
  },
  "language_info": {
   "codemirror_mode": {
    "name": "ipython",
    "version": 3
   },
   "file_extension": ".py",
   "mimetype": "text/x-python",
   "name": "python",
   "nbconvert_exporter": "python",
   "pygments_lexer": "ipython3",
   "version": "3.6.4"
  }
 },
 "nbformat": 4,
 "nbformat_minor": 2
}
