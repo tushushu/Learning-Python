{
 "cells": [
  {
   "cell_type": "markdown",
   "metadata": {},
   "source": [
    "# Merge sort"
   ]
  },
  {
   "cell_type": "markdown",
   "metadata": {},
   "source": [
    "## 1. Defination\n",
    "In computer science, merge sort (also commonly spelled mergesort) is an efficient, general-purpose, comparison-based sorting algorithm. Most implementations produce a stable sort, which means that the implementation preserves the input order of equal elements in the sorted output. Mergesort is a divide and conquer algorithm that was invented by John von Neumann in 1945. A detailed description and analysis of bottom-up mergesort appeared in a report by Goldstine and Neumann as early as 1948.  \n",
    "\n",
    "Conceptually, a merge sort works as follows:  \n",
    "1. Divide the unsorted list into n sublists, each containing 1 element (a list of 1 element is considered sorted).  \n",
    "2. Repeatedly merge sublists to produce new sorted sublists until there is only 1 sublist remaining. This will be the sorted list."
   ]
  },
  {
   "cell_type": "markdown",
   "metadata": {},
   "source": [
    "## 2. Performance\n",
    "In sorting n objects, merge sort has an average and worst-case performance of O(n log n)."
   ]
  },
  {
   "cell_type": "markdown",
   "metadata": {},
   "source": [
    "Valuation:  \n",
    "$C = n + n + ... + n = 2 * log_{2}(n) * n = 2nlog_{2}(n)$  \n",
    "\n",
    "Comparison:  \n",
    "$C = n + n + ... + n = log_{2}(n) * n = nlog_{2}(n)$"
   ]
  },
  {
   "cell_type": "markdown",
   "metadata": {},
   "source": [
    "## 3. Step-by-step example\n",
    "![merge sort](pic/mergesort.png)"
   ]
  },
  {
   "cell_type": "markdown",
   "metadata": {},
   "source": [
    "## Recursion in Python"
   ]
  },
  {
   "cell_type": "code",
   "execution_count": 16,
   "metadata": {},
   "outputs": [
    {
     "name": "stdout",
     "output_type": "stream",
     "text": [
      "Fibonacci(0) = 0\n",
      "Fibonacci(1) = 1\n",
      "Fibonacci(2) = 1\n",
      "Fibonacci(3) = 2\n",
      "Fibonacci(4) = 3\n",
      "Fibonacci(5) = 5\n",
      "Fibonacci(6) = 8\n",
      "Fibonacci(7) = 13\n",
      "Fibonacci(8) = 21\n",
      "Fibonacci(9) = 34\n",
      "Fibonacci(10) = 55\n",
      "Fibonacci(11) = 89\n",
      "Fibonacci(12) = 144\n",
      "Fibonacci(13) = 233\n",
      "Fibonacci(14) = 377\n",
      "Fibonacci(15) = 610\n",
      "Fibonacci(16) = 987\n",
      "Fibonacci(17) = 1597\n",
      "Fibonacci(18) = 2584\n",
      "Fibonacci(19) = 4181\n"
     ]
    }
   ],
   "source": [
    "def fib(n):\n",
    "    # get Fibonacci sequence\n",
    "    if n < 2:\n",
    "        res = n\n",
    "    else:\n",
    "        res = fib(n - 1) + fib(n - 2)\n",
    "\n",
    "    return res\n",
    "\n",
    "# test\n",
    "n = 20\n",
    "for i in range(n):\n",
    "    print(\"Fibonacci(%d) = %d\" % (i, fib(i)))"
   ]
  },
  {
   "cell_type": "markdown",
   "metadata": {},
   "source": [
    "## 5. Implement test function"
   ]
  },
  {
   "cell_type": "code",
   "execution_count": 19,
   "metadata": {
    "collapsed": true
   },
   "outputs": [],
   "source": [
    "import numpy as np\n",
    "from numpy.random import randint\n",
    "\n",
    "def test(func, n_test = 10):\n",
    "    for i in range(n_test):\n",
    "        A = randint(low = 0, high = 20, size = 10, dtype = 'int32')\n",
    "        B = np.sort(A)\n",
    "        A = np.array(func(list(A)))\n",
    "        assert np.all(A == B),\\\n",
    "        \"Array is not sorted correctly!\"\n",
    "\n",
    "    print(\"Test passed\")"
   ]
  },
  {
   "cell_type": "markdown",
   "metadata": {},
   "source": [
    "## 6. Implement merge sort"
   ]
  },
  {
   "cell_type": "code",
   "execution_count": 27,
   "metadata": {},
   "outputs": [
    {
     "name": "stdout",
     "output_type": "stream",
     "text": [
      "43.2 ns ± 5.12 ns per loop (mean ± std. dev. of 7 runs, 10000000 loops each)\n",
      "32.6 ns ± 0.547 ns per loop (mean ± std. dev. of 7 runs, 10000000 loops each)\n"
     ]
    }
   ],
   "source": [
    "def test_1():\n",
    "    A = list(range(10**7))\n",
    "    while A:\n",
    "        A.pop(0)\n",
    "    \n",
    "    return None\n",
    "\n",
    "def test_2():\n",
    "    A = list(range(10**7))\n",
    "    while A:\n",
    "        A.pop()\n",
    "\n",
    "    return None\n",
    "\n",
    "%timeit test_1\n",
    "%timeit test_2"
   ]
  },
  {
   "cell_type": "code",
   "execution_count": 28,
   "metadata": {},
   "outputs": [
    {
     "name": "stdout",
     "output_type": "stream",
     "text": [
      "Test passed\n"
     ]
    }
   ],
   "source": [
    "def merge(left, right):\n",
    "    res = []\n",
    "    while left and right:\n",
    "        min_val = left.pop(0) if left[0] < right[0] else right.pop(0)\n",
    "        res.append(min_val)\n",
    "    \n",
    "    res += left if left else right\n",
    "    \n",
    "    return res\n",
    " \n",
    "def merge_sort(A):\n",
    "    if len(A) <= 1:\n",
    "        res = A\n",
    "    else:\n",
    "        mid = len(A) // 2\n",
    "        left, right = merge_sort(A[:mid]), merge_sort(A[mid:])\n",
    "        res = merge(left, right)\n",
    "\n",
    "    return res\n",
    "\n",
    "test(merge_sort)"
   ]
  },
  {
   "cell_type": "markdown",
   "metadata": {},
   "source": [
    "## 7. Test"
   ]
  },
  {
   "cell_type": "code",
   "execution_count": 70,
   "metadata": {
    "collapsed": true
   },
   "outputs": [],
   "source": [
    "# 使用递归实现菲波那切数列\n",
    "\n",
    "# 使用递归求n的阶乘\n",
    "\n",
    "# 一列数的规则如下: 1、12、123、1234、12345、123456......,求第n个数的递归算法（n<=9）\n",
    "\n",
    "# 编写一个方法用于验证指定的字符串是否为反转字符，返回true和false。请用递归算法实现。（反转字符串样式为\"abcdedcba\"）,"
   ]
  },
  {
   "cell_type": "code",
   "execution_count": null,
   "metadata": {
    "collapsed": true
   },
   "outputs": [],
   "source": []
  }
 ],
 "metadata": {
  "kernelspec": {
   "display_name": "Python 3",
   "language": "python",
   "name": "python3"
  },
  "language_info": {
   "codemirror_mode": {
    "name": "ipython",
    "version": 3
   },
   "file_extension": ".py",
   "mimetype": "text/x-python",
   "name": "python",
   "nbconvert_exporter": "python",
   "pygments_lexer": "ipython3",
   "version": "3.6.3"
  }
 },
 "nbformat": 4,
 "nbformat_minor": 2
}
