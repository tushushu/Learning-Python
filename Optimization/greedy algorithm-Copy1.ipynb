{
 "cells": [
  {
   "cell_type": "markdown",
   "metadata": {},
   "source": [
    "# 贪心算法"
   ]
  },
  {
   "cell_type": "markdown",
   "metadata": {},
   "source": [
    "## 定义\n",
    "贪心算法（又称贪婪算法）是指，在对问题求解时，总是做出在当前看来是最好的选择。也就是说，不从整体最优上加以考虑，他所做出的是在某种意义上的局部最优解。"
   ]
  },
  {
   "cell_type": "markdown",
   "metadata": {},
   "source": [
    "## 特点\n",
    "贪婪算法可解决的问题通常大部分都有如下的特性：  \n",
    "1. 随着算法的进行，将积累起其它两个集合：一个包含已经被考虑过并被选出的候选对象，另一个包含已经被考虑过但被丢弃的候选对象。\n",
    "2. 有一个函数来检查一个候选对象的集合是否提供了问题的解答。该函数不考虑此时的解决方法是否最优。\n",
    "3. 还有一个函数检查是否一个候选对象的集合是可行的，也即是否可能往该集合上添加更多的候选对象以获得一个解。和上一个函数一样，此时不考虑解决方法的最优性。\n",
    "4. 选择函数可以指出哪一个剩余的候选对象最有希望构成问题的解。\n",
    "5. 最后，目标函数给出完整的解。"
   ]
  },
  {
   "cell_type": "markdown",
   "metadata": {},
   "source": [
    "## 过程\n",
    "\n",
    "1. 建立数学模型来描述问题；\n",
    "2. 把求解的问题分成若干个子问题；\n",
    "3. 对每一子问题求解，得到子问题的局部最优解；\n",
    "4. 把子问题的解局部最优解合成原来解问题的一个解。"
   ]
  },
  {
   "cell_type": "markdown",
   "metadata": {},
   "source": [
    "## 例子\n",
    "建立数据集满足以下条件:\n",
    "1. 平均年龄在35岁到45岁之间\n",
    "2. 工资总额在10万到12万之间"
   ]
  },
  {
   "cell_type": "markdown",
   "metadata": {},
   "source": [
    "## 解决方案\n",
    "求平均年龄和总工资的MSE最小值。"
   ]
  },
  {
   "cell_type": "code",
   "execution_count": 5,
   "metadata": {
    "collapsed": true
   },
   "outputs": [],
   "source": [
    "import pandas as pd\n",
    "import random, time\n",
    "import numpy as np"
   ]
  },
  {
   "cell_type": "markdown",
   "metadata": {},
   "source": [
    "## 建立随机数据集\n",
    "数据集包含以下列:\n",
    "1. 性别: 随机生成“男性”或“女性”  \n",
    "2. 年龄: 22岁至65岁之间的随机整数。\n",
    "3. 工资: 3000 - 10000之间的随机整数"
   ]
  },
  {
   "cell_type": "code",
   "execution_count": 6,
   "metadata": {},
   "outputs": [
    {
     "data": {
      "text/html": [
       "<div>\n",
       "<style>\n",
       "    .dataframe thead tr:only-child th {\n",
       "        text-align: right;\n",
       "    }\n",
       "\n",
       "    .dataframe thead th {\n",
       "        text-align: left;\n",
       "    }\n",
       "\n",
       "    .dataframe tbody tr th {\n",
       "        vertical-align: top;\n",
       "    }\n",
       "</style>\n",
       "<table border=\"1\" class=\"dataframe\">\n",
       "  <thead>\n",
       "    <tr style=\"text-align: right;\">\n",
       "      <th></th>\n",
       "      <th>age</th>\n",
       "      <th>gender</th>\n",
       "      <th>salary</th>\n",
       "    </tr>\n",
       "  </thead>\n",
       "  <tbody>\n",
       "    <tr>\n",
       "      <th>0</th>\n",
       "      <td>64</td>\n",
       "      <td>female</td>\n",
       "      <td>3828</td>\n",
       "    </tr>\n",
       "    <tr>\n",
       "      <th>1</th>\n",
       "      <td>64</td>\n",
       "      <td>female</td>\n",
       "      <td>6389</td>\n",
       "    </tr>\n",
       "    <tr>\n",
       "      <th>2</th>\n",
       "      <td>39</td>\n",
       "      <td>female</td>\n",
       "      <td>8344</td>\n",
       "    </tr>\n",
       "    <tr>\n",
       "      <th>3</th>\n",
       "      <td>30</td>\n",
       "      <td>male</td>\n",
       "      <td>4540</td>\n",
       "    </tr>\n",
       "    <tr>\n",
       "      <th>4</th>\n",
       "      <td>33</td>\n",
       "      <td>female</td>\n",
       "      <td>5147</td>\n",
       "    </tr>\n",
       "  </tbody>\n",
       "</table>\n",
       "</div>"
      ],
      "text/plain": [
       "   age  gender  salary\n",
       "0   64  female    3828\n",
       "1   64  female    6389\n",
       "2   39  female    8344\n",
       "3   30    male    4540\n",
       "4   33  female    5147"
      ]
     },
     "execution_count": 6,
     "metadata": {},
     "output_type": "execute_result"
    }
   ],
   "source": [
    "n_row = 1000\n",
    "random.seed(50)\n",
    "\n",
    "# create a series of gender\n",
    "gender = pd.Series([random.choice(['male','female']) for i in range(n_row)])\n",
    "\n",
    "# create a series of age\n",
    "age_low = 22\n",
    "age_high = 65\n",
    "age = pd.Series([random.randint(age_low, age_high) for i in range(n_row)])\n",
    "\n",
    "# create a series of salary\n",
    "salary_low = 3000\n",
    "salary_high = 10000\n",
    "salary = pd.Series([random.randint(salary_low, salary_high) for i in range(n_row)])\n",
    "\n",
    "# create a dataframe by gender and salary\n",
    "df = pd.DataFrame({\"gender\": gender,\"age\": age, \"salary\": salary})\n",
    "df.head()"
   ]
  },
  {
   "cell_type": "markdown",
   "metadata": {},
   "source": [
    "## 创建一个字符串字典及其相应的函数。\n",
    "1. \"average\": numpy.mean function  \n",
    "2. \"sum\": numpy.sum function"
   ]
  },
  {
   "cell_type": "code",
   "execution_count": 7,
   "metadata": {
    "collapsed": true
   },
   "outputs": [],
   "source": [
    "def str2func(x):\n",
    "    func_dict = {\"average\": np.mean, \"sum\": np.sum}\n",
    "    return func_dict[x]"
   ]
  },
  {
   "cell_type": "markdown",
   "metadata": {},
   "source": [
    "## 计算平方误差\n",
    "假设我们希望误差x落在[a, b]区间上，那么平方误差的计算如下: \n",
    "1. if x in [a, b], then $SE = 0$\n",
    "2. if x > b, then $SE = (x / b - 1)^2$\n",
    "3. if x < a，then $SE = (1 - x / a)^2$\n"
   ]
  },
  {
   "cell_type": "code",
   "execution_count": 8,
   "metadata": {
    "collapsed": true
   },
   "outputs": [],
   "source": [
    "def get_se(x, rng):\n",
    "    a, b = rng\n",
    "    if a <= x <= b:\n",
    "        res = 0\n",
    "    elif x > b:\n",
    "        # Normalization\n",
    "        res = (x / b - 1) ** 2\n",
    "    else:\n",
    "        res = (1 - x / a) ** 2\n",
    "    return res"
   ]
  },
  {
   "cell_type": "markdown",
   "metadata": {},
   "source": [
    "## 计算均方误差\n",
    "$MSE = \\frac{1}{n}\\sum_{i}^{n}SE_i$"
   ]
  },
  {
   "cell_type": "code",
   "execution_count": 9,
   "metadata": {
    "collapsed": true
   },
   "outputs": [],
   "source": [
    "def get_mse(data, rows, cols, funcs, rngs, n_cond):\n",
    "    mse = 0.0\n",
    "    for col, func, rng in zip(cols, funcs, rngs):\n",
    "        se = func(data.loc[rows == 1, col])\n",
    "        se = get_se(se, rng)   \n",
    "        mse += se / n_cond\n",
    "    return mse"
   ]
  },
  {
   "cell_type": "markdown",
   "metadata": {},
   "source": [
    "## 搜索功能\n",
    "变量行类似于[1,1,0,1,0,0,0…]，其中1表示这一行被选中。将mse和min_mse设置为“正无穷”作为哨兵使代码更加优雅。\n",
    "\n",
    "1. 创建一个带有n个零的数组\n",
    "2. 计算未被选中数据的mse\n",
    "3. 在步骤2中记录最小的mse为min_mse，并将相应的数据标号设置为1\n",
    "4. 比较mse和min_mse，然后更新mse的值\n",
    "5. 如果mse不能再降低，就终止迭代"
   ]
  },
  {
   "cell_type": "code",
   "execution_count": 10,
   "metadata": {
    "collapsed": true
   },
   "outputs": [],
   "source": [
    "def search(data, cols, funcs, rngs, threshold=10e-6):\n",
    "    n_row = data.shape[0]\n",
    "    n_cond = len(cols)\n",
    "    \n",
    "    # create a series to show which rows are selected\n",
    "    rows = pd.Series(np.zeros(n_row, dtype = np.int32))\n",
    "    rows.index = data.index\n",
    "    \n",
    "    # get functions\n",
    "    funcs = [str2func(x) for x in funcs]\n",
    "\n",
    "    i = 0\n",
    "    mse = float('inf')\n",
    "    while mse > threshold:\n",
    "        min_mse = float('inf')\n",
    "        for idx in data.loc[rows == 0].index:\n",
    "            rows.loc[idx] = 1\n",
    "            tmp_mse = get_mse(data, rows, cols, funcs, rngs, n_cond)\n",
    "            \n",
    "            if tmp_mse < min_mse:\n",
    "                min_mse = tmp_mse\n",
    "                min_mse_idx = idx\n",
    "            else:\n",
    "                pass\n",
    "            \n",
    "            rows.loc[idx] = 0\n",
    "        \n",
    "        # check if mse cannot be lower any more\n",
    "        if min_mse > mse:\n",
    "            break\n",
    "        else:\n",
    "            mse = min_mse\n",
    "            rows.loc[min_mse_idx] = 1\n",
    "        \n",
    "        # print loss\n",
    "        print(\"%d times iteration, mse %.3f\" % (i+1, mse))\n",
    "        i += 1\n",
    "        \n",
    "    return rows"
   ]
  },
  {
   "cell_type": "markdown",
   "metadata": {},
   "source": [
    "## 测试"
   ]
  },
  {
   "cell_type": "code",
   "execution_count": 11,
   "metadata": {},
   "outputs": [
    {
     "name": "stdout",
     "output_type": "stream",
     "text": [
      "\n",
      "\n",
      "\n",
      "\n",
      "Test search:\n",
      "1 times iteration, mse 0.405\n",
      "2 times iteration, mse 0.321\n",
      "3 times iteration, mse 0.246\n",
      "4 times iteration, mse 0.181\n",
      "5 times iteration, mse 0.126\n",
      "6 times iteration, mse 0.081\n",
      "7 times iteration, mse 0.046\n",
      "8 times iteration, mse 0.021\n",
      "9 times iteration, mse 0.005\n",
      "10 times iteration, mse 0.000\n",
      "11 times iteration, mse 0.000\n",
      "\n",
      "Target average age is 35 to 40 and target total salary is 100000 to 120000\n",
      "Average age is 39.00 and total salary is 103287\n",
      "Run time is 10.84 s\n"
     ]
    }
   ],
   "source": [
    "print(\"\\n\" * 3)\n",
    "print(\"Test search:\")\n",
    "\n",
    "run_time = time.time()\n",
    "\n",
    "idxs = search(data = df\n",
    "              , cols = [\"age\", \"salary\"]\n",
    "              , funcs = [\"average\", \"sum\"]\n",
    "              , rngs = [[35,40], [100000, 120000]])\n",
    "\n",
    "search_result = df.loc[idxs == 1]\n",
    "average_age = search_result.age.mean()\n",
    "total_salary = search_result.salary.sum()\n",
    "\n",
    "print()\n",
    "print(\"Target average age is 35 to 40 and target total salary is 100000 to 120000\")\n",
    "print(\"Average age is %.2f and total salary is %d\" % (average_age, total_salary))\n",
    "print(\"Run time is %.2f s\" % (time.time() - run_time))"
   ]
  },
  {
   "cell_type": "code",
   "execution_count": 12,
   "metadata": {},
   "outputs": [
    {
     "data": {
      "text/html": [
       "<div>\n",
       "<style>\n",
       "    .dataframe thead tr:only-child th {\n",
       "        text-align: right;\n",
       "    }\n",
       "\n",
       "    .dataframe thead th {\n",
       "        text-align: left;\n",
       "    }\n",
       "\n",
       "    .dataframe tbody tr th {\n",
       "        vertical-align: top;\n",
       "    }\n",
       "</style>\n",
       "<table border=\"1\" class=\"dataframe\">\n",
       "  <thead>\n",
       "    <tr style=\"text-align: right;\">\n",
       "      <th></th>\n",
       "      <th>age</th>\n",
       "      <th>gender</th>\n",
       "      <th>salary</th>\n",
       "    </tr>\n",
       "  </thead>\n",
       "  <tbody>\n",
       "    <tr>\n",
       "      <th>0</th>\n",
       "      <td>64</td>\n",
       "      <td>female</td>\n",
       "      <td>3828</td>\n",
       "    </tr>\n",
       "    <tr>\n",
       "      <th>176</th>\n",
       "      <td>22</td>\n",
       "      <td>male</td>\n",
       "      <td>9945</td>\n",
       "    </tr>\n",
       "    <tr>\n",
       "      <th>222</th>\n",
       "      <td>39</td>\n",
       "      <td>female</td>\n",
       "      <td>9980</td>\n",
       "    </tr>\n",
       "    <tr>\n",
       "      <th>415</th>\n",
       "      <td>59</td>\n",
       "      <td>female</td>\n",
       "      <td>9921</td>\n",
       "    </tr>\n",
       "    <tr>\n",
       "      <th>449</th>\n",
       "      <td>27</td>\n",
       "      <td>female</td>\n",
       "      <td>9986</td>\n",
       "    </tr>\n",
       "    <tr>\n",
       "      <th>497</th>\n",
       "      <td>24</td>\n",
       "      <td>female</td>\n",
       "      <td>9944</td>\n",
       "    </tr>\n",
       "    <tr>\n",
       "      <th>602</th>\n",
       "      <td>43</td>\n",
       "      <td>male</td>\n",
       "      <td>9935</td>\n",
       "    </tr>\n",
       "    <tr>\n",
       "      <th>725</th>\n",
       "      <td>36</td>\n",
       "      <td>male</td>\n",
       "      <td>9937</td>\n",
       "    </tr>\n",
       "    <tr>\n",
       "      <th>846</th>\n",
       "      <td>60</td>\n",
       "      <td>female</td>\n",
       "      <td>9975</td>\n",
       "    </tr>\n",
       "    <tr>\n",
       "      <th>878</th>\n",
       "      <td>22</td>\n",
       "      <td>male</td>\n",
       "      <td>9922</td>\n",
       "    </tr>\n",
       "    <tr>\n",
       "      <th>958</th>\n",
       "      <td>33</td>\n",
       "      <td>male</td>\n",
       "      <td>9914</td>\n",
       "    </tr>\n",
       "  </tbody>\n",
       "</table>\n",
       "</div>"
      ],
      "text/plain": [
       "     age  gender  salary\n",
       "0     64  female    3828\n",
       "176   22    male    9945\n",
       "222   39  female    9980\n",
       "415   59  female    9921\n",
       "449   27  female    9986\n",
       "497   24  female    9944\n",
       "602   43    male    9935\n",
       "725   36    male    9937\n",
       "846   60  female    9975\n",
       "878   22    male    9922\n",
       "958   33    male    9914"
      ]
     },
     "execution_count": 12,
     "metadata": {},
     "output_type": "execute_result"
    }
   ],
   "source": [
    "search_result"
   ]
  },
  {
   "cell_type": "code",
   "execution_count": null,
   "metadata": {
    "collapsed": true
   },
   "outputs": [],
   "source": []
  }
 ],
 "metadata": {
  "kernelspec": {
   "display_name": "Python 3",
   "language": "python",
   "name": "python3"
  },
  "language_info": {
   "codemirror_mode": {
    "name": "ipython",
    "version": 3
   },
   "file_extension": ".py",
   "mimetype": "text/x-python",
   "name": "python",
   "nbconvert_exporter": "python",
   "pygments_lexer": "ipython3",
   "version": "3.6.3"
  }
 },
 "nbformat": 4,
 "nbformat_minor": 2
}
