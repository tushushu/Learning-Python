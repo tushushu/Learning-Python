{
 "cells": [
  {
   "cell_type": "markdown",
   "metadata": {},
   "source": [
    "# Greedy algorithm"
   ]
  },
  {
   "cell_type": "markdown",
   "metadata": {},
   "source": [
    "## Definition\n",
    "A greedy algorithm is an algorithmic paradigm that follows the problem solving heuristic of making the locally optimal choice at each stage with the hope of finding a global optimum. In many problems, a greedy strategy does not in general produce an optimal solution, but nonetheless a greedy heuristic may yield locally optimal solutions that approximate a global optimal solution in a reasonable time."
   ]
  },
  {
   "cell_type": "markdown",
   "metadata": {},
   "source": [
    "## Specifics\n",
    "In general, greedy algorithms have five components:  \n",
    "\n",
    "A candidate set, from which a solution is created  \n",
    "A selection function, which chooses the best candidate to be added to the solution  \n",
    "A feasibility function, that is used to determine if a candidate can be used to contribute to a solution  \n",
    "An objective function, which assigns a value to a solution, or a partial solution, and  \n",
    "A solution function, which will indicate when we have discovered a complete solution   "
   ]
  },
  {
   "cell_type": "markdown",
   "metadata": {},
   "source": [
    "## Process\n",
    "\n",
    "1. Establishing mathematical models to describe problems;\n",
    "2. Divide the problem into several sub-problems;\n",
    "3. Obtain the local optimal solutions of sub-problems.\n",
    "4. Merge the solutions of sub-problems as the solution of origin problem."
   ]
  },
  {
   "cell_type": "markdown",
   "metadata": {},
   "source": [
    "## Example\n",
    "Extract some rows from the dataset to make these rows meet the following conditions:  \n",
    "1. The average age is between 35 and 45\n",
    "2. The total salary is between 100,000 and 120,000"
   ]
  },
  {
   "cell_type": "markdown",
   "metadata": {},
   "source": [
    "## The solution to the problem \n",
    "Minimize the mean-square error of average age and total salary"
   ]
  },
  {
   "cell_type": "code",
   "execution_count": 5,
   "metadata": {
    "collapsed": true
   },
   "outputs": [],
   "source": [
    "import pandas as pd\n",
    "import random, time\n",
    "import numpy as np"
   ]
  },
  {
   "cell_type": "markdown",
   "metadata": {},
   "source": [
    "## Establish a random dataset\n",
    "The dataset contains the following columns:  \n",
    "1. Gender: randomly generate 'male' or 'female'  \n",
    "2. Age: random integers between 22 and 65  \n",
    "3. Salary: random integers between 3000 and 10000  "
   ]
  },
  {
   "cell_type": "code",
   "execution_count": 6,
   "metadata": {},
   "outputs": [
    {
     "data": {
      "text/html": [
       "<div>\n",
       "<style>\n",
       "    .dataframe thead tr:only-child th {\n",
       "        text-align: right;\n",
       "    }\n",
       "\n",
       "    .dataframe thead th {\n",
       "        text-align: left;\n",
       "    }\n",
       "\n",
       "    .dataframe tbody tr th {\n",
       "        vertical-align: top;\n",
       "    }\n",
       "</style>\n",
       "<table border=\"1\" class=\"dataframe\">\n",
       "  <thead>\n",
       "    <tr style=\"text-align: right;\">\n",
       "      <th></th>\n",
       "      <th>age</th>\n",
       "      <th>gender</th>\n",
       "      <th>salary</th>\n",
       "    </tr>\n",
       "  </thead>\n",
       "  <tbody>\n",
       "    <tr>\n",
       "      <th>0</th>\n",
       "      <td>64</td>\n",
       "      <td>female</td>\n",
       "      <td>3828</td>\n",
       "    </tr>\n",
       "    <tr>\n",
       "      <th>1</th>\n",
       "      <td>64</td>\n",
       "      <td>female</td>\n",
       "      <td>6389</td>\n",
       "    </tr>\n",
       "    <tr>\n",
       "      <th>2</th>\n",
       "      <td>39</td>\n",
       "      <td>female</td>\n",
       "      <td>8344</td>\n",
       "    </tr>\n",
       "    <tr>\n",
       "      <th>3</th>\n",
       "      <td>30</td>\n",
       "      <td>male</td>\n",
       "      <td>4540</td>\n",
       "    </tr>\n",
       "    <tr>\n",
       "      <th>4</th>\n",
       "      <td>33</td>\n",
       "      <td>female</td>\n",
       "      <td>5147</td>\n",
       "    </tr>\n",
       "  </tbody>\n",
       "</table>\n",
       "</div>"
      ],
      "text/plain": [
       "   age  gender  salary\n",
       "0   64  female    3828\n",
       "1   64  female    6389\n",
       "2   39  female    8344\n",
       "3   30    male    4540\n",
       "4   33  female    5147"
      ]
     },
     "execution_count": 6,
     "metadata": {},
     "output_type": "execute_result"
    }
   ],
   "source": [
    "n_row = 1000\n",
    "random.seed(50)\n",
    "\n",
    "# create a series of gender\n",
    "gender = pd.Series([random.choice(['male','female']) for i in range(n_row)])\n",
    "\n",
    "# create a series of age\n",
    "age_low = 22\n",
    "age_high = 65\n",
    "age = pd.Series([random.randint(age_low, age_high) for i in range(n_row)])\n",
    "\n",
    "# create a series of salary\n",
    "salary_low = 3000\n",
    "salary_high = 10000\n",
    "salary = pd.Series([random.randint(salary_low, salary_high) for i in range(n_row)])\n",
    "\n",
    "# create a dataframe by gender and salary\n",
    "df = pd.DataFrame({\"gender\": gender,\"age\": age, \"salary\": salary})\n",
    "df.head()"
   ]
  },
  {
   "cell_type": "markdown",
   "metadata": {},
   "source": [
    "## Create a dictionary of strings and their corresponding functions\n",
    "1. \"average\": numpy.mean function  \n",
    "2. \"sum\": numpy.sum function"
   ]
  },
  {
   "cell_type": "code",
   "execution_count": 7,
   "metadata": {
    "collapsed": true
   },
   "outputs": [],
   "source": [
    "def str2func(x):\n",
    "    func_dict = {\"average\": np.mean, \"sum\": np.sum}\n",
    "    return func_dict[x]"
   ]
  },
  {
   "cell_type": "markdown",
   "metadata": {},
   "source": [
    "## Calculate square error\n",
    "Suppose we want the variable x to fall on the [a, b] interval, then  the calculation of the squared error is as followed:   \n",
    "1. if x in [a, b], then $SE = 0$\n",
    "2. if x > b, then $SE = (x / b - 1)^2$\n",
    "3. if x < a，then $SE = (1 - x / a)^2$\n"
   ]
  },
  {
   "cell_type": "code",
   "execution_count": 8,
   "metadata": {
    "collapsed": true
   },
   "outputs": [],
   "source": [
    "def get_se(x, rng):\n",
    "    a, b = rng\n",
    "    if a <= x <= b:\n",
    "        res = 0\n",
    "    elif x > b:\n",
    "        # Normalization\n",
    "        res = (x / b - 1) ** 2\n",
    "    else:\n",
    "        res = (1 - x / a) ** 2\n",
    "    return res"
   ]
  },
  {
   "cell_type": "markdown",
   "metadata": {},
   "source": [
    "## Calculate mean-square error \n",
    "$MSE = \\frac{1}{n}\\sum_{i}^{n}SE_i$"
   ]
  },
  {
   "cell_type": "code",
   "execution_count": 9,
   "metadata": {
    "collapsed": true
   },
   "outputs": [],
   "source": [
    "def get_mse(data, rows, cols, funcs, rngs, n_cond):\n",
    "    mse = 0.0\n",
    "    for col, func, rng in zip(cols, funcs, rngs):\n",
    "        se = func(data.loc[rows == 1, col])\n",
    "        se = get_se(se, rng)   \n",
    "        mse += se / n_cond\n",
    "    return mse"
   ]
  },
  {
   "cell_type": "markdown",
   "metadata": {},
   "source": [
    "## Search function\n",
    "The variable rows is something like [1, 1, 0, 1, 0, 0, 0..., 0, 1, 0, 0, 0], in which 1 means the row number is selected.  \n",
    "Set the mse and min_mse as \"infinite\" initially to make the code more elegant.\n",
    "1. Create an index array with n zeros.\n",
    "2. Calculate the mse of indexes which are zeros.\n",
    "3. Record the minimum mse as min_mse during step 2, and set the corresponding index as one.\n",
    "4. Compare the mse and min_mse then update the value of mse.\n",
    "5. Break the iteration if the mse cannot be lower anymore."
   ]
  },
  {
   "cell_type": "code",
   "execution_count": 10,
   "metadata": {
    "collapsed": true
   },
   "outputs": [],
   "source": [
    "def search(data, cols, funcs, rngs, threshold=10e-6):\n",
    "    n_row = data.shape[0]\n",
    "    n_cond = len(cols)\n",
    "    \n",
    "    # create a series to show which rows are selected\n",
    "    rows = pd.Series(np.zeros(n_row, dtype = np.int32))\n",
    "    rows.index = data.index\n",
    "    \n",
    "    # get functions\n",
    "    funcs = [str2func(x) for x in funcs]\n",
    "\n",
    "    i = 0\n",
    "    mse = float('inf')\n",
    "    while mse > threshold:\n",
    "        min_mse = float('inf')\n",
    "        for idx in data.loc[rows == 0].index:\n",
    "            rows.loc[idx] = 1\n",
    "            tmp_mse = get_mse(data, rows, cols, funcs, rngs, n_cond)\n",
    "            \n",
    "            if tmp_mse < min_mse:\n",
    "                min_mse = tmp_mse\n",
    "                min_mse_idx = idx\n",
    "            else:\n",
    "                pass\n",
    "            \n",
    "            rows.loc[idx] = 0\n",
    "        \n",
    "        # check if mse cannot be lower any more\n",
    "        if min_mse > mse:\n",
    "            break\n",
    "        else:\n",
    "            mse = min_mse\n",
    "            rows.loc[min_mse_idx] = 1\n",
    "        \n",
    "        # print loss\n",
    "        print(\"%d times iteration, mse %.3f\" % (i+1, mse))\n",
    "        i += 1\n",
    "        \n",
    "    return rows"
   ]
  },
  {
   "cell_type": "markdown",
   "metadata": {},
   "source": [
    "## Test the search fucntion and show results. "
   ]
  },
  {
   "cell_type": "code",
   "execution_count": 11,
   "metadata": {},
   "outputs": [
    {
     "name": "stdout",
     "output_type": "stream",
     "text": [
      "\n",
      "\n",
      "\n",
      "\n",
      "Test search:\n",
      "1 times iteration, mse 0.405\n",
      "2 times iteration, mse 0.321\n",
      "3 times iteration, mse 0.246\n",
      "4 times iteration, mse 0.181\n",
      "5 times iteration, mse 0.126\n",
      "6 times iteration, mse 0.081\n",
      "7 times iteration, mse 0.046\n",
      "8 times iteration, mse 0.021\n",
      "9 times iteration, mse 0.005\n",
      "10 times iteration, mse 0.000\n",
      "11 times iteration, mse 0.000\n",
      "\n",
      "Target average age is 35 to 40 and target total salary is 100000 to 120000\n",
      "Average age is 39.00 and total salary is 103287\n",
      "Run time is 10.84 s\n"
     ]
    }
   ],
   "source": [
    "print(\"\\n\" * 3)\n",
    "print(\"Test search:\")\n",
    "\n",
    "run_time = time.time()\n",
    "\n",
    "idxs = search(data = df\n",
    "              , cols = [\"age\", \"salary\"]\n",
    "              , funcs = [\"average\", \"sum\"]\n",
    "              , rngs = [[35,40], [100000, 120000]])\n",
    "\n",
    "search_result = df.loc[idxs == 1]\n",
    "average_age = search_result.age.mean()\n",
    "total_salary = search_result.salary.sum()\n",
    "\n",
    "print()\n",
    "print(\"Target average age is 35 to 40 and target total salary is 100000 to 120000\")\n",
    "print(\"Average age is %.2f and total salary is %d\" % (average_age, total_salary))\n",
    "print(\"Run time is %.2f s\" % (time.time() - run_time))"
   ]
  },
  {
   "cell_type": "code",
   "execution_count": 12,
   "metadata": {},
   "outputs": [
    {
     "data": {
      "text/html": [
       "<div>\n",
       "<style>\n",
       "    .dataframe thead tr:only-child th {\n",
       "        text-align: right;\n",
       "    }\n",
       "\n",
       "    .dataframe thead th {\n",
       "        text-align: left;\n",
       "    }\n",
       "\n",
       "    .dataframe tbody tr th {\n",
       "        vertical-align: top;\n",
       "    }\n",
       "</style>\n",
       "<table border=\"1\" class=\"dataframe\">\n",
       "  <thead>\n",
       "    <tr style=\"text-align: right;\">\n",
       "      <th></th>\n",
       "      <th>age</th>\n",
       "      <th>gender</th>\n",
       "      <th>salary</th>\n",
       "    </tr>\n",
       "  </thead>\n",
       "  <tbody>\n",
       "    <tr>\n",
       "      <th>0</th>\n",
       "      <td>64</td>\n",
       "      <td>female</td>\n",
       "      <td>3828</td>\n",
       "    </tr>\n",
       "    <tr>\n",
       "      <th>176</th>\n",
       "      <td>22</td>\n",
       "      <td>male</td>\n",
       "      <td>9945</td>\n",
       "    </tr>\n",
       "    <tr>\n",
       "      <th>222</th>\n",
       "      <td>39</td>\n",
       "      <td>female</td>\n",
       "      <td>9980</td>\n",
       "    </tr>\n",
       "    <tr>\n",
       "      <th>415</th>\n",
       "      <td>59</td>\n",
       "      <td>female</td>\n",
       "      <td>9921</td>\n",
       "    </tr>\n",
       "    <tr>\n",
       "      <th>449</th>\n",
       "      <td>27</td>\n",
       "      <td>female</td>\n",
       "      <td>9986</td>\n",
       "    </tr>\n",
       "    <tr>\n",
       "      <th>497</th>\n",
       "      <td>24</td>\n",
       "      <td>female</td>\n",
       "      <td>9944</td>\n",
       "    </tr>\n",
       "    <tr>\n",
       "      <th>602</th>\n",
       "      <td>43</td>\n",
       "      <td>male</td>\n",
       "      <td>9935</td>\n",
       "    </tr>\n",
       "    <tr>\n",
       "      <th>725</th>\n",
       "      <td>36</td>\n",
       "      <td>male</td>\n",
       "      <td>9937</td>\n",
       "    </tr>\n",
       "    <tr>\n",
       "      <th>846</th>\n",
       "      <td>60</td>\n",
       "      <td>female</td>\n",
       "      <td>9975</td>\n",
       "    </tr>\n",
       "    <tr>\n",
       "      <th>878</th>\n",
       "      <td>22</td>\n",
       "      <td>male</td>\n",
       "      <td>9922</td>\n",
       "    </tr>\n",
       "    <tr>\n",
       "      <th>958</th>\n",
       "      <td>33</td>\n",
       "      <td>male</td>\n",
       "      <td>9914</td>\n",
       "    </tr>\n",
       "  </tbody>\n",
       "</table>\n",
       "</div>"
      ],
      "text/plain": [
       "     age  gender  salary\n",
       "0     64  female    3828\n",
       "176   22    male    9945\n",
       "222   39  female    9980\n",
       "415   59  female    9921\n",
       "449   27  female    9986\n",
       "497   24  female    9944\n",
       "602   43    male    9935\n",
       "725   36    male    9937\n",
       "846   60  female    9975\n",
       "878   22    male    9922\n",
       "958   33    male    9914"
      ]
     },
     "execution_count": 12,
     "metadata": {},
     "output_type": "execute_result"
    }
   ],
   "source": [
    "search_result"
   ]
  },
  {
   "cell_type": "code",
   "execution_count": null,
   "metadata": {
    "collapsed": true
   },
   "outputs": [],
   "source": []
  }
 ],
 "metadata": {
  "kernelspec": {
   "display_name": "Python 3",
   "language": "python",
   "name": "python3"
  },
  "language_info": {
   "codemirror_mode": {
    "name": "ipython",
    "version": 3
   },
   "file_extension": ".py",
   "mimetype": "text/x-python",
   "name": "python",
   "nbconvert_exporter": "python",
   "pygments_lexer": "ipython3",
   "version": "3.4.5"
  }
 },
 "nbformat": 4,
 "nbformat_minor": 2
}
