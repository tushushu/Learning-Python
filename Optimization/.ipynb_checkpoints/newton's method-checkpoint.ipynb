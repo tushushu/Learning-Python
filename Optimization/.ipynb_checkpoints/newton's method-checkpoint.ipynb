{
 "cells": [
  {
   "cell_type": "markdown",
   "metadata": {},
   "source": [
    "## 超定方程组 \n",
    "对于方程组Ra=y，R为n×m矩阵，如果R列满秩，且n>m。则方程组没有精确解，此时称方程组为超定方程组。   \n",
    "1. 超定方程一般是不存在解的矛盾方程，比较常用的方法是最小二乘法。  \n",
    "2. 曲线拟合是最小二乘法要解决的问题，实际上就是求以上超定方程组的最小二乘解的问题。  \n"
   ]
  },
  {
   "cell_type": "code",
   "execution_count": 244,
   "metadata": {
    "collapsed": true
   },
   "outputs": [],
   "source": [
    "import numpy as np\n",
    "import pandas as pd\n",
    "import matplotlib.pyplot as plt\n",
    "np.set_printoptions(suppress = True)"
   ]
  },
  {
   "cell_type": "code",
   "execution_count": 245,
   "metadata": {},
   "outputs": [
    {
     "name": "stdout",
     "output_type": "stream",
     "text": [
      "[ 0.44122749] 0.574386137298\n"
     ]
    }
   ],
   "source": [
    "n = 1\n",
    "m = 100\n",
    "np.random.seed(5)\n",
    "x = np.random.normal(0, 1, m * n).reshape(m, n)\n",
    "np.random.seed(10)\n",
    "y = np.dot(x, np.array(range(1, n + 1))) + np.random.normal(0, 0.1, m)\n",
    "\n",
    "print(x[0], y[0])"
   ]
  },
  {
   "cell_type": "markdown",
   "metadata": {},
   "source": [
    "## 最小二乘法 \n",
    "假设数据集有m行n列，且满足m > n，那么这个方程组有m个方程和n个未知数，无法求解   \n",
    "\n",
    "由于：  \n",
    "$e_{i} = Y_{i} - \\hat{Y_{i}}$  \n",
    "\n",
    "$e_{i} = Y_{i} - (\\sum_{j=1}^{n}\\beta_{j}X_{ij})$  \n",
    "\n",
    "$MSE = \\frac{1}{m}\\sum_{i=1}^{m}e_{i}^2 = \\frac{1}{m}\\sum_{1}^{m}(Y_{i} - \\sum_{j=1}^{n}\\beta_{j}X_{ij})^2$  \n",
    "\n",
    "显然我们不太可能找到一组解让MSE等于0，但是我们可以求出一组解让MSE最小。  上面关于MSE的等式称作损失函数，我们求解方程组的任务也转为最小化损失函数的值。对n个beta求偏导，令偏导数等于零，则得到n个方程组且有n个未知数，方程组有唯一解如下：\n",
    "\n",
    "$\\beta = (X^TX)^{-1}X^TY$\n",
    "\n",
    "通过numpy的矩阵乘法、求逆和转置来实现least_squares_method，并与numpy自带的线性最小二乘求解函数np.linalg.lstsq进行结果对比"
   ]
  },
  {
   "cell_type": "code",
   "execution_count": 157,
   "metadata": {},
   "outputs": [
    {
     "name": "stdout",
     "output_type": "stream",
     "text": [
      "The origin x is:\n",
      " [[0 1]\n",
      " [2 3]\n",
      " [4 5]\n",
      " [6 7]\n",
      " [8 9]] \n",
      "\n",
      "The result is:\n",
      " [[ 1.  0.  1.]\n",
      " [ 1.  2.  3.]\n",
      " [ 1.  4.  5.]\n",
      " [ 1.  6.  7.]\n",
      " [ 1.  8.  9.]] \n",
      "\n"
     ]
    }
   ],
   "source": [
    "def add_bias(x):\n",
    "    return np.concatenate((np.ones(x.shape[0]).reshape(-1,1), x), axis=1)\n",
    "\n",
    "\n",
    "t = np.array(range(10)).reshape(5, 2)\n",
    "print(\"The origin x is:\\n\", t, '\\n')\n",
    "\n",
    "t = add_bias(t)\n",
    "print(\"The result is:\\n\", t, '\\n')"
   ]
  },
  {
   "cell_type": "code",
   "execution_count": 100,
   "metadata": {},
   "outputs": [
    {
     "name": "stdout",
     "output_type": "stream",
     "text": [
      "[[ 0.00854145  0.00854145]\n",
      " [ 0.99778269  0.99778269]\n",
      " [ 1.9946594   1.9946594 ]\n",
      " [ 3.00730595  3.00730595]]\n"
     ]
    }
   ],
   "source": [
    "def least_squares_method(x, y):\n",
    "    x = np.mat(add_bias(x))\n",
    "    y = np.mat(y).T\n",
    "    return np.array((x.T * x).I * x.T * y)\n",
    "\n",
    "betas1 = least_squares_method(x, y)\n",
    "betas2 = np.linalg.lstsq(add_bias(x), y)[0].reshape(-1, 1)\n",
    "print(np.concatenate((betas1, betas2), axis=1))"
   ]
  },
  {
   "cell_type": "markdown",
   "metadata": {},
   "source": [
    "##  什么是牛顿法\n",
    "牛顿法是一种在实数域和复数域上近似求解方程的方法。方法使用函数f(x)的泰勒级数的前面几项来寻找方程f(y)=0的根。  \n",
    "泰勒公式，如果$f(x)$在点$x=x_0$具有任意阶导数，则幂级数  \n",
    "$f(x) = \\large\\frac{f(x_0)}{0!}\\normalsize+\\large\\frac{f'(x_0)}{1!} \\normalsize(x-x_0)+\\large\\frac{f''(x_0)}{2!} \\normalsize(x-x_0)^2\n",
    "+...+\\large\\frac{f^{(n)}(x_0)}{n!} \\normalsize(x-x_0)^n + R_n(x)$  \n",
    "  \n",
    "令$f(x_1) = 0$，取其线性部分，作为非线性方程的近似方程，则有：  \n",
    "$f(x_0) + (x_1 - x_0)f'(x_0) = 0$  \n",
    "  \n",
    "解方程，得到：  \n",
    "$x_1 = x_0 - \\large\\frac{f'(x_0)}{f(x_0)}$  \n",
    "  \n",
    "通过不断迭代，将上式推广得到：  \n",
    "$x_{n+1} = x_n - \\large\\frac{f'(x_n)}{f(x_n)}$   "
   ]
  },
  {
   "cell_type": "markdown",
   "metadata": {},
   "source": [
    "## 利用牛顿法求解最小二乘问题\n",
    "$y = ax + b$  \n",
    "$e = y - \\hat{y}$  \n",
    "$L = \\large\\frac{1}{m}\\normalsize\\sum_{i}^{m}e_{i}^2$\n",
    "\n",
    "对a和b分别求偏导得到：  \n",
    "$\\large\\frac{\\partial L}{\\partial a} \\normalsize= \\large\\frac{\\partial L}{\\partial e} \\frac{\\partial e}{\\partial \\hat{y}} \\frac{\\partial \\hat{y}}{\\partial a}$\n",
    "$= -\\large\\frac{2}{m}\\normalsize\\sum_{i}^{m}(y_{i}-ax_{i} - b)x_{i}$  \n",
    "\n",
    "$\\large\\frac{\\partial L}{\\partial b} \\normalsize= \\large\\frac{\\partial L}{\\partial e} \\frac{\\partial e}{\\partial \\hat{y}} \\frac{\\partial \\hat{y}}{\\partial b}$\n",
    "$= -\\large\\frac{2}{m}\\normalsize\\sum_{i}^{m}(y_{i}-ax_{i} - b)$"
   ]
  },
  {
   "cell_type": "code",
   "execution_count": 242,
   "metadata": {
    "collapsed": true
   },
   "outputs": [],
   "source": [
    "def newton_method(x, y, lr = 0.001, epochs = 10000):\n",
    "    x = add_bias(x)\n",
    "    m, n = x.shape\n",
    "    weights = np.zeros(n)\n",
    "    \n",
    "    for _ in range(epochs):\n",
    "        weights_partial_1 = np.zeros(n)\n",
    "        weights_partial_2 = np.zeros(n)\n",
    "        for i in range(m):\n",
    "            err = y[i] - weights * x[i]\n",
    "            weights_partial_1 += err * x[i]\n",
    "            weights_partial_2 += x[i] ** 2\n",
    "\n",
    "        weights += lr * weights_partial_2 / weights_partial_1\n",
    "    return weights"
   ]
  },
  {
   "cell_type": "code",
   "execution_count": 243,
   "metadata": {},
   "outputs": [
    {
     "data": {
      "text/plain": [
       "array([  2.75001954, -14.87697733,   9.51038721,  -0.18799211])"
      ]
     },
     "execution_count": 243,
     "metadata": {},
     "output_type": "execute_result"
    }
   ],
   "source": [
    "newton_method(x, y)"
   ]
  },
  {
   "cell_type": "markdown",
   "metadata": {},
   "source": [
    "## 利用牛顿法求解根号2的近似值 "
   ]
  },
  {
   "cell_type": "code",
   "execution_count": null,
   "metadata": {
    "collapsed": true
   },
   "outputs": [],
   "source": [
    "def square_root(n=2, lr=0.001, threhold=0.0001):\n",
    "    return x"
   ]
  },
  {
   "cell_type": "code",
   "execution_count": null,
   "metadata": {
    "collapsed": true
   },
   "outputs": [],
   "source": [
    "test = square_root(n=2, lr=0.001, threhold=0.0000001)"
   ]
  },
  {
   "cell_type": "code",
   "execution_count": null,
   "metadata": {
    "collapsed": true
   },
   "outputs": [],
   "source": [
    "print(2**0.5 - test)"
   ]
  },
  {
   "cell_type": "code",
   "execution_count": null,
   "metadata": {
    "collapsed": true
   },
   "outputs": [],
   "source": []
  }
 ],
 "metadata": {
  "kernelspec": {
   "display_name": "Python 3",
   "language": "python",
   "name": "python3"
  },
  "language_info": {
   "codemirror_mode": {
    "name": "ipython",
    "version": 3
   },
   "file_extension": ".py",
   "mimetype": "text/x-python",
   "name": "python",
   "nbconvert_exporter": "python",
   "pygments_lexer": "ipython3",
   "version": "3.6.3"
  }
 },
 "nbformat": 4,
 "nbformat_minor": 2
}
