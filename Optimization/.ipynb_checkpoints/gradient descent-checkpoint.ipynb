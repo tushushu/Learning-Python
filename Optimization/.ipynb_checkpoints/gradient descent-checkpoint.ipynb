{
 "cells": [
  {
   "cell_type": "markdown",
   "metadata": {},
   "source": [
    "## 超定方程组 \n",
    "对于方程组Ra=y，R为n×m矩阵，如果R列满秩，且n>m。则方程组没有精确解，此时称方程组为超定方程组。   \n",
    "1. 超定方程一般是不存在解的矛盾方程，比较常用的方法是最小二乘法。  \n",
    "2. 曲线拟合是最小二乘法要解决的问题，实际上就是求以上超定方程组的最小二乘解的问题。  \n"
   ]
  },
  {
   "cell_type": "code",
   "execution_count": 5,
   "metadata": {
    "collapsed": true
   },
   "outputs": [],
   "source": [
    "import numpy as np\n",
    "import pandas as pd\n",
    "import matplotlib.pyplot as plt\n",
    "np.set_printoptions(suppress = True)"
   ]
  },
  {
   "cell_type": "code",
   "execution_count": 6,
   "metadata": {},
   "outputs": [
    {
     "name": "stdout",
     "output_type": "stream",
     "text": [
      "[ 0.44122749 -0.33087015  2.43077119] 7.20495939453\n"
     ]
    }
   ],
   "source": [
    "n = 3\n",
    "m = 100\n",
    "np.random.seed(5)\n",
    "x = np.random.normal(0, 1, m * n).reshape(m, n)\n",
    "np.random.seed(10)\n",
    "y = np.dot(x, np.array(range(1, n + 1))) + np.random.normal(0, 0.1, m)\n",
    "\n",
    "print(x[0], y[0])"
   ]
  },
  {
   "cell_type": "markdown",
   "metadata": {},
   "source": [
    "## 最小二乘法 \n",
    "假设数据集有m行n列，且满足m > n，那么这个方程组有m个方程和n个未知数，无法求解   \n",
    "\n",
    "由于：  \n",
    "$e_{i} = Y_{i} - \\hat{Y_{i}}$  \n",
    "\n",
    "$e_{i} = Y_{i} - (\\sum_{j=1}^{n}\\beta_{j}X_{ij})$  \n",
    "\n",
    "$MSE = \\frac{1}{m}\\sum_{i=1}^{m}e_{i}^2 = \\frac{1}{m}\\sum_{1}^{m}(Y_{i} - \\sum_{j=1}^{n}\\beta_{j}X_{ij})^2$  \n",
    "\n",
    "显然我们不太可能找到一组解让MSE等于0，但是我们可以求出一组解让MSE最小。  上面关于MSE的等式称作损失函数，我们求解方程组的任务也转为最小化损失函数的值。对n个beta求偏导，令偏导数等于零，则得到n个方程组且有n个未知数，方程组有唯一解如下：\n",
    "\n",
    "$\\beta = (X^TX)^{-1}X^TY$\n",
    "\n",
    "通过numpy的矩阵乘法、求逆和转置来实现least_squares_method，并与numpy自带的线性最小二乘求解函数np.linalg.lstsq进行结果对比"
   ]
  },
  {
   "cell_type": "code",
   "execution_count": 7,
   "metadata": {},
   "outputs": [
    {
     "name": "stdout",
     "output_type": "stream",
     "text": [
      "The origin x is:\n",
      " [[0 1]\n",
      " [2 3]\n",
      " [4 5]\n",
      " [6 7]\n",
      " [8 9]] \n",
      "\n",
      "The result is:\n",
      " [[ 1.  0.  1.]\n",
      " [ 1.  2.  3.]\n",
      " [ 1.  4.  5.]\n",
      " [ 1.  6.  7.]\n",
      " [ 1.  8.  9.]] \n",
      "\n"
     ]
    }
   ],
   "source": [
    "def add_bias(x):\n",
    "    return np.concatenate((np.ones(x.shape[0]).reshape(-1,1), x), axis=1)\n",
    "\n",
    "\n",
    "t = np.array(range(10)).reshape(5, 2)\n",
    "print(\"The origin x is:\\n\", t, '\\n')\n",
    "\n",
    "t = add_bias(t)\n",
    "print(\"The result is:\\n\", t, '\\n')"
   ]
  },
  {
   "cell_type": "code",
   "execution_count": 8,
   "metadata": {},
   "outputs": [
    {
     "name": "stdout",
     "output_type": "stream",
     "text": [
      "[[ 0.00854145  0.00854145]\n",
      " [ 0.99778269  0.99778269]\n",
      " [ 1.9946594   1.9946594 ]\n",
      " [ 3.00730595  3.00730595]]\n"
     ]
    }
   ],
   "source": [
    "def least_squares_method(x, y):\n",
    "    x = np.mat(add_bias(x))\n",
    "    y = np.mat(y).T\n",
    "    return np.array((x.T * x).I * x.T * y)\n",
    "\n",
    "betas1 = least_squares_method(x, y)\n",
    "betas2 = np.linalg.lstsq(add_bias(x), y)[0].reshape(-1, 1)\n",
    "print(np.concatenate((betas1, betas2), axis=1))"
   ]
  },
  {
   "cell_type": "markdown",
   "metadata": {},
   "source": [
    "##  什么是梯度下降\n",
    "梯度：梯度的本意是一个向量（矢量），表示某一函数在该点处的方向导数沿着该方向取得最大值，即函数在该点处沿着该方向（此梯度的方向）变化最快，变化率最大（为该梯度的模）。  \n",
    "学习率：即步长。  \n",
    "损失函数：为了评估模型拟合的好坏，通常用损失函数来度量拟合的程度。损失函数极小化，意味着拟合程度最好，对应的模型参数即为最优参数。  \n",
    "\n",
    "梯度下降算法步骤：\n",
    "1. 确认优化模型的假设函数和损失函数\n",
    "2. 初始化权重\n",
    "3. 算法过程：  \n",
    "  1）确定当前位置的损失函数的梯度  \n",
    "  2）用步长乘以损失函数的梯度，得到当前位置下降的距离  \n",
    "  3）更新所有的权重，更新完毕后继续转入步骤1  "
   ]
  },
  {
   "cell_type": "markdown",
   "metadata": {},
   "source": [
    "## 利用梯度下降法求解最小二乘问题\n",
    "大型的矩阵运算求解最小二乘问题会非常占用内存，且不适合分布式存储与计算。利用梯度下降法求解可以作为替代方案。  \n",
    "首先，我们换一种写法来表示线性方程组，其中w表示weight，b表示bias：  \n",
    "$\\hat{y} = \\sum_{i}^{n}w_{i} x_{i} + b = WX + b$ \n",
    "\n",
    "$e = y - \\hat{y}$\n",
    "\n",
    "$L = \\large\\frac{1}{m}\\normalsize\\sum_{i}^{m}e_{i}^2$\n",
    "\n",
    "对W和b分别求偏导得到：  \n",
    "$\\large\\frac{\\partial L}{\\partial W} \\normalsize= \\large\\frac{\\partial L}{\\partial e} \\frac{\\partial e}{\\partial \\hat{y}} \\frac{\\partial \\hat{y}}{\\partial W}$\n",
    "$= -\\large\\frac{2}{m}\\normalsize\\sum_{i}^{m}(y_{i}-WX_{i} - b)X_{i}$  \n",
    "\n",
    "$\\large\\frac{\\partial L}{\\partial b} \\normalsize= \\large\\frac{\\partial L}{\\partial e} \\frac{\\partial e}{\\partial \\hat{y}} \\frac{\\partial \\hat{y}}{\\partial b}$\n",
    "$= -\\large\\frac{2}{m}\\normalsize\\sum_{i}^{m}(y_{i}-WX_{i} - b)$"
   ]
  },
  {
   "cell_type": "code",
   "execution_count": 11,
   "metadata": {
    "collapsed": true
   },
   "outputs": [],
   "source": [
    "def batch_gradient_descent(x, y, lr, epochs):\n",
    "    m, n = x.shape\n",
    "    weights = np.random.normal(0, 0.01, n)\n",
    "    b = 0\n",
    "    losses = []\n",
    "    iterations = 0\n",
    "\n",
    "    for _ in range(epochs):\n",
    "        bias_gradient = 0\n",
    "        weights_gradient = np.zeros(n)\n",
    "\n",
    "        for i in range(m):\n",
    "            iterations += 1\n",
    "            bias_gradient += (y[i] - np.dot(weights, x[i]) - b)\n",
    "            weights_gradient += bias_gradient * x[i]\n",
    "\n",
    "        b += lr * bias_gradient * 2 / m\n",
    "        weights += lr * weights_gradient * 2 / m\n",
    "\n",
    "        loss = np.sum((np.matmul(x, weights) + b - y)**2)\n",
    "        losses.append(loss)\n",
    "\n",
    "    print(\"iterations: %d\\n\" % iterations\n",
    "          , \"weights: %s\\n\" % ' '.join([str(weight)[:5] for weight in weights])\n",
    "          , \"bias: %.3f\\n\" % b\n",
    "          , \"loss: %.3f\\n\" % losses[-1])\n",
    "    losses = pd.Series(losses)\n",
    "    losses.plot(kind='line', title = \"Losses trend\")\n",
    "    plt.show()\n",
    "    \n",
    "    return b, weights"
   ]
  },
  {
   "cell_type": "code",
   "execution_count": 10,
   "metadata": {},
   "outputs": [
    {
     "name": "stdout",
     "output_type": "stream",
     "text": [
      "iterations: 100000\n",
      " weights: 0.987 2.045 2.941\n",
      " bias: 0.003\n",
      " loss: 1.555\n",
      "\n"
     ]
    },
    {
     "data": {
      "image/png": "[encoded data removed]",
      "text/plain": [
       "<matplotlib.figure.Figure at 0x4760b00>"
      ]
     },
     "metadata": {},
     "output_type": "display_data"
    }
   ],
   "source": [
    "b, weights = batch_gradient_descent(x, y, lr = 0.01, epochs = 1000)"
   ]
  },
  {
   "cell_type": "code",
   "execution_count": 8,
   "metadata": {
    "collapsed": true
   },
   "outputs": [],
   "source": [
    "def stochastic_gradient_descent(x, y, lr, epochs, sample_rate):\n",
    "    m, n = x.shape\n",
    "    k = int(m * sample_rate)\n",
    "    weights = np.random.normal(0, 0.01, n)\n",
    "    b = 0\n",
    "    losses = []\n",
    "    iterations = 0\n",
    "\n",
    "    for _ in range(epochs):\n",
    "        for i in np.random.choice(range(m), size = k, replace = False):\n",
    "            iterations += 1\n",
    "            bias_gradient = (y[i] - np.dot(weights, x[i]) - b)\n",
    "            weights_gradient = bias_gradient * x[i]\n",
    "\n",
    "            b += lr * bias_gradient\n",
    "            weights += lr * weights_gradient\n",
    "\n",
    "            loss = np.sum((np.matmul(x, weights) + b - y)**2)\n",
    "            losses.append(loss)\n",
    "\n",
    "    print(\"iterations: %d\\n\" % iterations\n",
    "          , \"weights: %s\\n\" % ' '.join([str(weight)[:5] for weight in weights])\n",
    "          , \"bias: %.3f\\n\" % b\n",
    "          , \"loss: %.3f\\n\" % losses[-1])\n",
    "    losses = pd.Series(losses)\n",
    "    losses.plot(kind='line', title = \"Losses trend\")\n",
    "    plt.show()\n",
    "    return b, weights"
   ]
  },
  {
   "cell_type": "code",
   "execution_count": 10,
   "metadata": {},
   "outputs": [
    {
     "name": "stdout",
     "output_type": "stream",
     "text": [
      "iterations: 2000\n",
      " weights: 0.991 2.000 3.000\n",
      " bias: 0.005\n",
      " loss: 0.940\n",
      "\n"
     ]
    },
    {
     "data": {
      "image/png": "[encoded data removed]",
      "text/plain": [
       "<matplotlib.figure.Figure at 0x888d0f0>"
      ]
     },
     "metadata": {},
     "output_type": "display_data"
    }
   ],
   "source": [
    "b, weights = stochastic_gradient_descent(x, y, lr = 0.01, epochs = 100, sample_rate = 0.2)"
   ]
  },
  {
   "cell_type": "markdown",
   "metadata": {},
   "source": [
    "## 利用梯度下降法求解根号2的近似值 \n",
    "$f(x,n) = (x^2 - n) ^ 2$  \n",
    "$\\frac{df}{dx} = (x^2 - n) * 2 * 2 * x$"
   ]
  },
  {
   "cell_type": "code",
   "execution_count": 55,
   "metadata": {
    "collapsed": true
   },
   "outputs": [],
   "source": [
    "def square_root(n=2, lr = 0.001, threhold=0.0001):\n",
    "    x = n\n",
    "    while abs(x**2 - n) > threhold:\n",
    "        x_grad = lr * (x ** 2 - n) * 2 * 2 * x\n",
    "        x -= x_grad\n",
    "\n",
    "    return x"
   ]
  },
  {
   "cell_type": "code",
   "execution_count": 53,
   "metadata": {
    "collapsed": true
   },
   "outputs": [],
   "source": [
    "test = square_root(n=2, lr = 0.001, threhold=0.0000001)"
   ]
  },
  {
   "cell_type": "code",
   "execution_count": 54,
   "metadata": {},
   "outputs": [
    {
     "name": "stdout",
     "output_type": "stream",
     "text": [
      "3.5240073747999645e-08\n"
     ]
    }
   ],
   "source": [
    "print(2**0.5 - test)"
   ]
  },
  {
   "cell_type": "code",
   "execution_count": null,
   "metadata": {
    "collapsed": true
   },
   "outputs": [],
   "source": []
  }
 ],
 "metadata": {
  "kernelspec": {
   "display_name": "Python 3",
   "language": "python",
   "name": "python3"
  },
  "language_info": {
   "codemirror_mode": {
    "name": "ipython",
    "version": 3
   },
   "file_extension": ".py",
   "mimetype": "text/x-python",
   "name": "python",
   "nbconvert_exporter": "python",
   "pygments_lexer": "ipython3",
   "version": "3.4.5"
  }
 },
 "nbformat": 4,
 "nbformat_minor": 2
}
