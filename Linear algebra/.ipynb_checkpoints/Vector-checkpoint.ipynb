{
 "cells": [
  {
   "cell_type": "markdown",
   "metadata": {},
   "source": [
    "# Vector"
   ]
  },
  {
   "cell_type": "markdown",
   "metadata": {},
   "source": [
    "## 1.Defination\n",
    "A quantity having direction as well as magnitude, especially as determining the position of one point in space relative to another. Compare with scalar."
   ]
  },
  {
   "cell_type": "markdown",
   "metadata": {},
   "source": [
    "## 2.How to calculate vectors\n",
    "$\\overrightarrow{A}(X_1, Y_1)$, $\\overrightarrow{B}(X_2, Y_2)$  \n",
    "$\\overrightarrow{A} + \\overrightarrow{B} =（X_1 + X_2, Y_1 + Y_2)$  \n",
    "$\\overrightarrow{A} - \\overrightarrow{B} =（X_1 - X_2, Y_1 - Y_2)$\n",
    "![向量加减](pic/向量加减.jpg)\n",
    "$k \\cdot \\overrightarrow{A} = （k * X_1, k * Y_1)$\n",
    "![标量乘法](pic/Scalar_multiplication.png)\n",
    "$||\\overrightarrow{A}|| = \\sqrt{X_1^2 + Y_1^2}$  \n",
    "$\\overrightarrow{A} \\cdot \\overrightarrow{B} = X_1 * X_2 + Y_1 * Y_2 = ||\\overrightarrow{A}|| * ||\\overrightarrow{B}|| * \\cos\\theta$  \n",
    "$\\cos\\theta = \\overrightarrow{A} \\cdot \\overrightarrow{B} / (||\\overrightarrow{A}|| * ||\\overrightarrow{B}||)$  \n",
    "$||\\overrightarrow{A}''|| = ||\\overrightarrow{A}|| * \\cos\\theta = ||\\overrightarrow{A}|| * \\overrightarrow{A} \\cdot \\overrightarrow{B} /  (||\\overrightarrow{A}|| * ||\\overrightarrow{B}||) = \\overrightarrow{A} \\cdot \\overrightarrow{B} /  ||\\overrightarrow{B}||$\n",
    "![向量夹角](pic/Dot_Product.png)"
   ]
  },
  {
   "cell_type": "markdown",
   "metadata": {},
   "source": [
    "## 3.Create vector class"
   ]
  },
  {
   "cell_type": "code",
   "execution_count": 16,
   "metadata": {
    "collapsed": true
   },
   "outputs": [],
   "source": [
    "from functools import reduce\n",
    "from math import acos, pi\n",
    "\n",
    "class Vector(object):\n",
    "\n",
    "    def __init__(self, coordinates):\n",
    "        self.coordinates = tuple(coordinates)\n",
    "        self.dimension = len(coordinates)\n",
    "\n",
    "    def __str__(self):\n",
    "        return \"%dD Vector: %s\" % (self.dimension, ', '.join([\"%.3f\" % round(x, 3) for x in self.coordinates]))\n",
    "\n",
    "    def __eq__(self, v):\n",
    "        return self.coordinates is v.coordinates\n",
    "    \n",
    "    def _eq_dim(self, v):\n",
    "        assert self.dimension is v.dimension, \"The dimensions of vectors must be equal!\"\n",
    "    \n",
    "    def _zero_vec(self):\n",
    "        assert self.magnitude() != 0, \"Encount with zero vector!\"\n",
    "\n",
    "    def plus(self, v):\n",
    "        self._eq_dim(v)\n",
    "        return Vector([x + y for x, y in zip(self.coordinates, v.coordinates)])\n",
    "\n",
    "    def minus(self, v):\n",
    "        self._eq_dim(v)\n",
    "        return Vector([x - y for x, y in zip(self.coordinates, v.coordinates)])\n",
    "\n",
    "    def scalar_mult(self, m):\n",
    "        return Vector([x * m for x in self.coordinates])\n",
    "    \n",
    "    def magnitude(self, *args):\n",
    "        return reduce(lambda x, y : x + y, map(lambda z : z**2, self.coordinates)) ** 0.5\n",
    "    \n",
    "    def direction(self, *args):\n",
    "        self._zero_vec()\n",
    "        return self.scalar_mult(1 / self.magnitude())\n",
    "    \n",
    "    def dot_product(self, v):\n",
    "        self._eq_dim(v)\n",
    "        return reduce(lambda x, y : x + y, [a * b for a, b in zip(self.coordinates, v.coordinates)])\n",
    "    \n",
    "    def angle(self, v, degree = False):\n",
    "        self._zero_vec()\n",
    "        v._zero_vec()\n",
    "        measurement = pi / 180 if degree else 1\n",
    "        return acos(self.dot_product(v) / (self.magnitude() * v.magnitude())) / measurement\n",
    "    \n",
    "    def parallelism(self, v, threshold = 10e-6):\n",
    "        self._eq_dim(v)\n",
    "        res = False\n",
    "        if self.magnitude() < threshold or v.magnitude() < threshold:\n",
    "            res = True\n",
    "        else:\n",
    "            ang = self.angle(v)\n",
    "            if ang < threshold or (pi - ang) < threshold:\n",
    "                res = True\n",
    "        return res\n",
    "    \n",
    "    def orthogonality(self, v, threshold = 10e-6):\n",
    "        return abs(self.dot_product(v)) < threshold\n",
    "        \n",
    "    def projection(self, v):\n",
    "        _v = v.direction()\n",
    "        weight = self.dot_product(_v)\n",
    "        return _v.scalar_mult(weight)\n",
    "    \n",
    "    def cross(self, v):\n",
    "        x_1, y_1, z_1 = self.coordinates\n",
    "        x_2, y_2, z_2 = v.coordinates\n",
    "        return Vector([y_1 * z_2 - y_2 * z_1, z_1 * x_2 - z_2* x_1, x_1 * y_2 - x_2 * y_1])"
   ]
  },
  {
   "cell_type": "markdown",
   "metadata": {},
   "source": [
    "## Create test fuction"
   ]
  },
  {
   "cell_type": "code",
   "execution_count": 17,
   "metadata": {
    "collapsed": true
   },
   "outputs": [],
   "source": [
    "def test_vector(func, var):\n",
    "    res = func(var)\n",
    "\n",
    "    if isinstance(res, Vector):\n",
    "        print(res.coordinates)\n",
    "    else:\n",
    "        print(res)\n",
    "        \n",
    "    return None"
   ]
  },
  {
   "cell_type": "code",
   "execution_count": 41,
   "metadata": {},
   "outputs": [
    {
     "data": {
      "text/plain": [
       "True"
      ]
     },
     "execution_count": 41,
     "metadata": {},
     "output_type": "execute_result"
    }
   ],
   "source": [
    "s = \"abc\"\n",
    "isinstance(s, str)"
   ]
  },
  {
   "cell_type": "code",
   "execution_count": 40,
   "metadata": {},
   "outputs": [
    {
     "name": "stdout",
     "output_type": "stream",
     "text": [
      "0.9999999999999062\n"
     ]
    }
   ],
   "source": [
    "1.92\n",
    "\n",
    "a = 1/10000\n",
    "\n",
    "b = 0\n",
    "\n",
    "A = [1, 2]\n",
    "B = [1/1000000, 2/10000000]\n",
    "\n",
    "for i in range(10000):\n",
    "    b += a\n",
    "print(b)"
   ]
  },
  {
   "cell_type": "markdown",
   "metadata": {},
   "source": [
    "## Test the fuctions of vector class"
   ]
  },
  {
   "cell_type": "code",
   "execution_count": 18,
   "metadata": {},
   "outputs": [
    {
     "name": "stdout",
     "output_type": "stream",
     "text": [
      "(2, 0)\n",
      "(0, 2)\n",
      "(2, 2)\n",
      "1.4142135623730951\n",
      "(0.7071067811865475, 0.7071067811865475)\n",
      "0\n",
      "1.5707963267948966\n"
     ]
    }
   ],
   "source": [
    "a = Vector([1, 1])\n",
    "b = Vector([1, -1])\n",
    "a == b\n",
    "m = 2\n",
    "\n",
    "funcs = [a.plus, a.minus, a.scalar_mult, a.magnitude, a.direction, a.dot_product, a.angle]\n",
    "vars = [b, b, m, None, None, b, b]\n",
    "\n",
    "for func, var in zip(funcs, vars):\n",
    "    test_vector(func, var)"
   ]
  },
  {
   "cell_type": "code",
   "execution_count": 19,
   "metadata": {},
   "outputs": [
    {
     "name": "stdout",
     "output_type": "stream",
     "text": [
      "2D Vector: -0.221, 7.437\n"
     ]
    }
   ],
   "source": [
    "a = Vector([-0.2211, 7.4371])\n",
    "print(a)"
   ]
  },
  {
   "cell_type": "code",
   "execution_count": 20,
   "metadata": {},
   "outputs": [
    {
     "data": {
      "text/plain": [
       "10.884187567292289"
      ]
     },
     "execution_count": 20,
     "metadata": {},
     "output_type": "execute_result"
    }
   ],
   "source": [
    "b = Vector([8.813, -1.331, -6.247])\n",
    "b.coordinates\n",
    "b.magnitude()"
   ]
  },
  {
   "cell_type": "code",
   "execution_count": 21,
   "metadata": {},
   "outputs": [
    {
     "data": {
      "text/plain": [
       "(0.9339352140866403, -0.35744232526233)"
      ]
     },
     "execution_count": 21,
     "metadata": {},
     "output_type": "execute_result"
    }
   ],
   "source": [
    "c = Vector([5.581, -2.136])\n",
    "c.direction().coordinates"
   ]
  },
  {
   "cell_type": "code",
   "execution_count": 22,
   "metadata": {},
   "outputs": [
    {
     "data": {
      "text/plain": [
       "(0.3404012959433014, 0.5300437012984873, -0.7766470449528029)"
      ]
     },
     "execution_count": 22,
     "metadata": {},
     "output_type": "execute_result"
    }
   ],
   "source": [
    "d = Vector([1.996, 3.108, -4.554])\n",
    "d.direction().coordinates"
   ]
  },
  {
   "cell_type": "code",
   "execution_count": 47,
   "metadata": {},
   "outputs": [
    {
     "ename": "AssertionError",
     "evalue": "The dimensions of vectors must be equal!",
     "output_type": "error",
     "traceback": [
      "\u001b[1;31m---------------------------------------------------------------------------\u001b[0m",
      "\u001b[1;31mAssertionError\u001b[0m                            Traceback (most recent call last)",
      "\u001b[1;32m<ipython-input-47-b1147d2a8053>\u001b[0m in \u001b[0;36m<module>\u001b[1;34m()\u001b[0m\n\u001b[0;32m      1\u001b[0m \u001b[0md\u001b[0m \u001b[1;33m=\u001b[0m \u001b[0mVector\u001b[0m\u001b[1;33m(\u001b[0m\u001b[1;33m[\u001b[0m\u001b[1;36m1.996\u001b[0m\u001b[1;33m,\u001b[0m \u001b[1;36m3.108\u001b[0m\u001b[1;33m,\u001b[0m \u001b[1;33m-\u001b[0m\u001b[1;36m4.554\u001b[0m\u001b[1;33m,\u001b[0m \u001b[1;36m2.987\u001b[0m\u001b[1;33m]\u001b[0m\u001b[1;33m)\u001b[0m\u001b[1;33m\u001b[0m\u001b[0m\n\u001b[0;32m      2\u001b[0m \u001b[0me\u001b[0m \u001b[1;33m=\u001b[0m \u001b[0mVector\u001b[0m\u001b[1;33m(\u001b[0m\u001b[1;33m[\u001b[0m\u001b[1;36m1.996\u001b[0m\u001b[1;33m,\u001b[0m \u001b[1;36m3.108\u001b[0m\u001b[1;33m,\u001b[0m \u001b[1;33m-\u001b[0m\u001b[1;36m4.554\u001b[0m\u001b[1;33m]\u001b[0m\u001b[1;33m)\u001b[0m\u001b[1;33m\u001b[0m\u001b[0m\n\u001b[1;32m----> 3\u001b[1;33m \u001b[0md\u001b[0m\u001b[1;33m.\u001b[0m\u001b[0mplus\u001b[0m\u001b[1;33m(\u001b[0m\u001b[0me\u001b[0m\u001b[1;33m)\u001b[0m\u001b[1;33m\u001b[0m\u001b[0m\n\u001b[0m",
      "\u001b[1;32m<ipython-input-16-1f933a0ec6b2>\u001b[0m in \u001b[0;36mplus\u001b[1;34m(self, v)\u001b[0m\n\u001b[0;32m     21\u001b[0m \u001b[1;33m\u001b[0m\u001b[0m\n\u001b[0;32m     22\u001b[0m     \u001b[1;32mdef\u001b[0m \u001b[0mplus\u001b[0m\u001b[1;33m(\u001b[0m\u001b[0mself\u001b[0m\u001b[1;33m,\u001b[0m \u001b[0mv\u001b[0m\u001b[1;33m)\u001b[0m\u001b[1;33m:\u001b[0m\u001b[1;33m\u001b[0m\u001b[0m\n\u001b[1;32m---> 23\u001b[1;33m         \u001b[0mself\u001b[0m\u001b[1;33m.\u001b[0m\u001b[0m_eq_dim\u001b[0m\u001b[1;33m(\u001b[0m\u001b[0mv\u001b[0m\u001b[1;33m)\u001b[0m\u001b[1;33m\u001b[0m\u001b[0m\n\u001b[0m\u001b[0;32m     24\u001b[0m         \u001b[1;32mreturn\u001b[0m \u001b[0mVector\u001b[0m\u001b[1;33m(\u001b[0m\u001b[1;33m[\u001b[0m\u001b[0mx\u001b[0m \u001b[1;33m+\u001b[0m \u001b[0my\u001b[0m \u001b[1;32mfor\u001b[0m \u001b[0mx\u001b[0m\u001b[1;33m,\u001b[0m \u001b[0my\u001b[0m \u001b[1;32min\u001b[0m \u001b[0mzip\u001b[0m\u001b[1;33m(\u001b[0m\u001b[0mself\u001b[0m\u001b[1;33m.\u001b[0m\u001b[0mcoordinates\u001b[0m\u001b[1;33m,\u001b[0m \u001b[0mv\u001b[0m\u001b[1;33m.\u001b[0m\u001b[0mcoordinates\u001b[0m\u001b[1;33m)\u001b[0m\u001b[1;33m]\u001b[0m\u001b[1;33m)\u001b[0m\u001b[1;33m\u001b[0m\u001b[0m\n\u001b[0;32m     25\u001b[0m \u001b[1;33m\u001b[0m\u001b[0m\n",
      "\u001b[1;32m<ipython-input-16-1f933a0ec6b2>\u001b[0m in \u001b[0;36m_eq_dim\u001b[1;34m(self, v)\u001b[0m\n\u001b[0;32m     15\u001b[0m \u001b[1;33m\u001b[0m\u001b[0m\n\u001b[0;32m     16\u001b[0m     \u001b[1;32mdef\u001b[0m \u001b[0m_eq_dim\u001b[0m\u001b[1;33m(\u001b[0m\u001b[0mself\u001b[0m\u001b[1;33m,\u001b[0m \u001b[0mv\u001b[0m\u001b[1;33m)\u001b[0m\u001b[1;33m:\u001b[0m\u001b[1;33m\u001b[0m\u001b[0m\n\u001b[1;32m---> 17\u001b[1;33m         \u001b[1;32massert\u001b[0m \u001b[0mself\u001b[0m\u001b[1;33m.\u001b[0m\u001b[0mdimension\u001b[0m \u001b[1;32mis\u001b[0m \u001b[0mv\u001b[0m\u001b[1;33m.\u001b[0m\u001b[0mdimension\u001b[0m\u001b[1;33m,\u001b[0m \u001b[1;34m\"The dimensions of vectors must be equal!\"\u001b[0m\u001b[1;33m\u001b[0m\u001b[0m\n\u001b[0m\u001b[0;32m     18\u001b[0m \u001b[1;33m\u001b[0m\u001b[0m\n\u001b[0;32m     19\u001b[0m     \u001b[1;32mdef\u001b[0m \u001b[0m_zero_vec\u001b[0m\u001b[1;33m(\u001b[0m\u001b[0mself\u001b[0m\u001b[1;33m)\u001b[0m\u001b[1;33m:\u001b[0m\u001b[1;33m\u001b[0m\u001b[0m\n",
      "\u001b[1;31mAssertionError\u001b[0m: The dimensions of vectors must be equal!"
     ]
    }
   ],
   "source": [
    "d = Vector([1.996, 3.108, -4.554, 2.987])\n",
    "e = Vector([1.996, 3.108, -4.554])\n",
    "d.plus(e)"
   ]
  },
  {
   "cell_type": "code",
   "execution_count": 24,
   "metadata": {},
   "outputs": [
    {
     "name": "stdout",
     "output_type": "stream",
     "text": [
      "41.7 ns ± 2 ns per loop (mean ± std. dev. of 7 runs, 10000000 loops each)\n",
      "45.9 ns ± 1.23 ns per loop (mean ± std. dev. of 7 runs, 10000000 loops each)\n"
     ]
    }
   ],
   "source": [
    "a = 1\n",
    "%timeit a is 1\n",
    "%timeit a == 1"
   ]
  },
  {
   "cell_type": "code",
   "execution_count": 38,
   "metadata": {},
   "outputs": [
    {
     "name": "stdout",
     "output_type": "stream",
     "text": [
      "41.1 ns ± 1.63 ns per loop (mean ± std. dev. of 7 runs, 10000000 loops each)\n",
      "46.9 ns ± 0.898 ns per loop (mean ± std. dev. of 7 runs, 10000000 loops each)\n"
     ]
    }
   ],
   "source": [
    "a = 1\n",
    "%timeit a is not 2\n",
    "%timeit a != 2"
   ]
  },
  {
   "cell_type": "code",
   "execution_count": null,
   "metadata": {
    "collapsed": true
   },
   "outputs": [],
   "source": [
    "while 1\n",
    "while True\n",
    "\n",
    "for i in range(100):\n",
    "    \n",
    "    sum\n",
    "    \n",
    "while 1 < 101:\n",
    "    sum"
   ]
  },
  {
   "cell_type": "code",
   "execution_count": 25,
   "metadata": {},
   "outputs": [
    {
     "data": {
      "text/plain": [
       "-41.382"
      ]
     },
     "execution_count": 25,
     "metadata": {},
     "output_type": "execute_result"
    }
   ],
   "source": [
    "a = Vector([7.887, 4.138])\n",
    "b = Vector([-8.802, 6.776])\n",
    "round(a.dot_product(b),3)"
   ]
  },
  {
   "cell_type": "code",
   "execution_count": 26,
   "metadata": {},
   "outputs": [
    {
     "data": {
      "text/plain": [
       "56.397"
      ]
     },
     "execution_count": 26,
     "metadata": {},
     "output_type": "execute_result"
    }
   ],
   "source": [
    "a = Vector([-5.955,-4.904,-1.874])\n",
    "b = Vector([-4.496, -8.755, 7.103])\n",
    "round(a.dot_product(b),3)"
   ]
  },
  {
   "cell_type": "code",
   "execution_count": 27,
   "metadata": {},
   "outputs": [
    {
     "data": {
      "text/plain": [
       "3.072"
      ]
     },
     "execution_count": 27,
     "metadata": {},
     "output_type": "execute_result"
    }
   ],
   "source": [
    "a = Vector([3.183, -7.627])\n",
    "b = Vector([-2.668, 5.319])\n",
    "round(a.angle(b),3)"
   ]
  },
  {
   "cell_type": "code",
   "execution_count": 28,
   "metadata": {},
   "outputs": [
    {
     "ename": "AssertionError",
     "evalue": "Encount with zero vector!",
     "output_type": "error",
     "traceback": [
      "\u001b[1;31m---------------------------------------------------------------------------\u001b[0m",
      "\u001b[1;31mAssertionError\u001b[0m                            Traceback (most recent call last)",
      "\u001b[1;32m<ipython-input-28-607609a2d4c3>\u001b[0m in \u001b[0;36m<module>\u001b[1;34m()\u001b[0m\n\u001b[0;32m      1\u001b[0m \u001b[0ma\u001b[0m \u001b[1;33m=\u001b[0m \u001b[0mVector\u001b[0m\u001b[1;33m(\u001b[0m\u001b[1;33m[\u001b[0m\u001b[1;36m7.35\u001b[0m\u001b[1;33m,\u001b[0m \u001b[1;36m0.221\u001b[0m\u001b[1;33m,\u001b[0m \u001b[1;36m5.188\u001b[0m\u001b[1;33m]\u001b[0m\u001b[1;33m)\u001b[0m\u001b[1;33m\u001b[0m\u001b[0m\n\u001b[0;32m      2\u001b[0m \u001b[0mb\u001b[0m \u001b[1;33m=\u001b[0m \u001b[0mVector\u001b[0m\u001b[1;33m(\u001b[0m\u001b[1;33m[\u001b[0m\u001b[1;36m0\u001b[0m\u001b[1;33m,\u001b[0m \u001b[1;36m0\u001b[0m\u001b[1;33m,\u001b[0m \u001b[1;36m0\u001b[0m\u001b[1;33m]\u001b[0m\u001b[1;33m)\u001b[0m\u001b[1;33m\u001b[0m\u001b[0m\n\u001b[1;32m----> 3\u001b[1;33m \u001b[0mround\u001b[0m\u001b[1;33m(\u001b[0m\u001b[0ma\u001b[0m\u001b[1;33m.\u001b[0m\u001b[0mangle\u001b[0m\u001b[1;33m(\u001b[0m\u001b[0mb\u001b[0m\u001b[1;33m,\u001b[0m \u001b[0mdegree\u001b[0m \u001b[1;33m=\u001b[0m \u001b[1;32mTrue\u001b[0m\u001b[1;33m)\u001b[0m\u001b[1;33m,\u001b[0m \u001b[1;36m3\u001b[0m\u001b[1;33m)\u001b[0m\u001b[1;33m\u001b[0m\u001b[0m\n\u001b[0m",
      "\u001b[1;32m<ipython-input-16-1f933a0ec6b2>\u001b[0m in \u001b[0;36mangle\u001b[1;34m(self, v, degree)\u001b[0m\n\u001b[0;32m     44\u001b[0m     \u001b[1;32mdef\u001b[0m \u001b[0mangle\u001b[0m\u001b[1;33m(\u001b[0m\u001b[0mself\u001b[0m\u001b[1;33m,\u001b[0m \u001b[0mv\u001b[0m\u001b[1;33m,\u001b[0m \u001b[0mdegree\u001b[0m \u001b[1;33m=\u001b[0m \u001b[1;32mFalse\u001b[0m\u001b[1;33m)\u001b[0m\u001b[1;33m:\u001b[0m\u001b[1;33m\u001b[0m\u001b[0m\n\u001b[0;32m     45\u001b[0m         \u001b[0mself\u001b[0m\u001b[1;33m.\u001b[0m\u001b[0m_zero_vec\u001b[0m\u001b[1;33m(\u001b[0m\u001b[1;33m)\u001b[0m\u001b[1;33m\u001b[0m\u001b[0m\n\u001b[1;32m---> 46\u001b[1;33m         \u001b[0mv\u001b[0m\u001b[1;33m.\u001b[0m\u001b[0m_zero_vec\u001b[0m\u001b[1;33m(\u001b[0m\u001b[1;33m)\u001b[0m\u001b[1;33m\u001b[0m\u001b[0m\n\u001b[0m\u001b[0;32m     47\u001b[0m         \u001b[0mmeasurement\u001b[0m \u001b[1;33m=\u001b[0m \u001b[0mpi\u001b[0m \u001b[1;33m/\u001b[0m \u001b[1;36m180\u001b[0m \u001b[1;32mif\u001b[0m \u001b[0mdegree\u001b[0m \u001b[1;32melse\u001b[0m \u001b[1;36m1\u001b[0m\u001b[1;33m\u001b[0m\u001b[0m\n\u001b[0;32m     48\u001b[0m         \u001b[1;32mreturn\u001b[0m \u001b[0macos\u001b[0m\u001b[1;33m(\u001b[0m\u001b[0mself\u001b[0m\u001b[1;33m.\u001b[0m\u001b[0mdot_product\u001b[0m\u001b[1;33m(\u001b[0m\u001b[0mv\u001b[0m\u001b[1;33m)\u001b[0m \u001b[1;33m/\u001b[0m \u001b[1;33m(\u001b[0m\u001b[0mself\u001b[0m\u001b[1;33m.\u001b[0m\u001b[0mmagnitude\u001b[0m\u001b[1;33m(\u001b[0m\u001b[1;33m)\u001b[0m \u001b[1;33m*\u001b[0m \u001b[0mv\u001b[0m\u001b[1;33m.\u001b[0m\u001b[0mmagnitude\u001b[0m\u001b[1;33m(\u001b[0m\u001b[1;33m)\u001b[0m\u001b[1;33m)\u001b[0m\u001b[1;33m)\u001b[0m \u001b[1;33m/\u001b[0m \u001b[0mmeasurement\u001b[0m\u001b[1;33m\u001b[0m\u001b[0m\n",
      "\u001b[1;32m<ipython-input-16-1f933a0ec6b2>\u001b[0m in \u001b[0;36m_zero_vec\u001b[1;34m(self)\u001b[0m\n\u001b[0;32m     18\u001b[0m \u001b[1;33m\u001b[0m\u001b[0m\n\u001b[0;32m     19\u001b[0m     \u001b[1;32mdef\u001b[0m \u001b[0m_zero_vec\u001b[0m\u001b[1;33m(\u001b[0m\u001b[0mself\u001b[0m\u001b[1;33m)\u001b[0m\u001b[1;33m:\u001b[0m\u001b[1;33m\u001b[0m\u001b[0m\n\u001b[1;32m---> 20\u001b[1;33m         \u001b[1;32massert\u001b[0m \u001b[0mself\u001b[0m\u001b[1;33m.\u001b[0m\u001b[0mmagnitude\u001b[0m\u001b[1;33m(\u001b[0m\u001b[1;33m)\u001b[0m \u001b[1;33m!=\u001b[0m \u001b[1;36m0\u001b[0m\u001b[1;33m,\u001b[0m \u001b[1;34m\"Encount with zero vector!\"\u001b[0m\u001b[1;33m\u001b[0m\u001b[0m\n\u001b[0m\u001b[0;32m     21\u001b[0m \u001b[1;33m\u001b[0m\u001b[0m\n\u001b[0;32m     22\u001b[0m     \u001b[1;32mdef\u001b[0m \u001b[0mplus\u001b[0m\u001b[1;33m(\u001b[0m\u001b[0mself\u001b[0m\u001b[1;33m,\u001b[0m \u001b[0mv\u001b[0m\u001b[1;33m)\u001b[0m\u001b[1;33m:\u001b[0m\u001b[1;33m\u001b[0m\u001b[0m\n",
      "\u001b[1;31mAssertionError\u001b[0m: Encount with zero vector!"
     ]
    }
   ],
   "source": [
    "a = Vector([7.35, 0.221, 5.188])\n",
    "b = Vector([0, 0, 0])\n",
    "round(a.angle(b, degree = True), 3)\n"
   ]
  },
  {
   "cell_type": "code",
   "execution_count": 29,
   "metadata": {},
   "outputs": [
    {
     "data": {
      "text/plain": [
       "True"
      ]
     },
     "execution_count": 29,
     "metadata": {},
     "output_type": "execute_result"
    }
   ],
   "source": [
    "a = Vector([1,2,3])\n",
    "b = Vector([2,4,6])\n",
    "c = Vector([1,2,4])\n",
    "a.parallelism(b)"
   ]
  },
  {
   "cell_type": "code",
   "execution_count": 30,
   "metadata": {},
   "outputs": [
    {
     "data": {
      "text/plain": [
       "True"
      ]
     },
     "execution_count": 30,
     "metadata": {},
     "output_type": "execute_result"
    }
   ],
   "source": [
    "a = Vector([1, 2])\n",
    "b = Vector([2, -1])\n",
    "a.orthogonality(b)"
   ]
  },
  {
   "cell_type": "code",
   "execution_count": 31,
   "metadata": {},
   "outputs": [
    {
     "name": "stdout",
     "output_type": "stream",
     "text": [
      "-358.60692299999994 True False\n"
     ]
    }
   ],
   "source": [
    "a = Vector([-7.579, -7.88])\n",
    "b = Vector([22.737, 23.64])\n",
    "print(a.dot_product(b), a.parallelism(b) , a.orthogonality(b))"
   ]
  },
  {
   "cell_type": "code",
   "execution_count": 32,
   "metadata": {},
   "outputs": [
    {
     "name": "stdout",
     "output_type": "stream",
     "text": [
      "-77.68727100000001 False False\n"
     ]
    }
   ],
   "source": [
    "a = Vector([-2.029, 9.97, 4.172])\n",
    "b = Vector([-9.231, -6.639, -7.245])\n",
    "print(a.dot_product(b), a.parallelism(b) , a.orthogonality(b))"
   ]
  },
  {
   "cell_type": "code",
   "execution_count": 33,
   "metadata": {},
   "outputs": [
    {
     "name": "stdout",
     "output_type": "stream",
     "text": [
      "-1.3322676295501878e-15 False True\n"
     ]
    }
   ],
   "source": [
    "a = Vector([-2.328, -7.284, -1.214])\n",
    "b = Vector([-1.821, 1.072, -2.94])\n",
    "print(a.dot_product(b), a.parallelism(b) , a.orthogonality(b))"
   ]
  },
  {
   "cell_type": "code",
   "execution_count": 34,
   "metadata": {},
   "outputs": [
    {
     "name": "stdout",
     "output_type": "stream",
     "text": [
      "0.0 True True\n"
     ]
    }
   ],
   "source": [
    "a = Vector([2.118, 4.827])\n",
    "b = Vector([0, 0])\n",
    "print(a.dot_product(b), a.parallelism(b) , a.orthogonality(b))"
   ]
  },
  {
   "cell_type": "code",
   "execution_count": 35,
   "metadata": {},
   "outputs": [
    {
     "name": "stdout",
     "output_type": "stream",
     "text": [
      "2D Vector: 1.083, 2.672\n"
     ]
    }
   ],
   "source": [
    "a = Vector([3.039, 1.879])\n",
    "b = Vector([0.825, 2.036])\n",
    "print(a.projection(b))"
   ]
  },
  {
   "cell_type": "code",
   "execution_count": 36,
   "metadata": {},
   "outputs": [
    {
     "name": "stdout",
     "output_type": "stream",
     "text": [
      "3D Vector: -8.350, 3.376, -1.434\n"
     ]
    }
   ],
   "source": [
    "a = Vector([-9.88, -3.264, -8.159])\n",
    "b = Vector([-2.155, -9.353, -9.473])\n",
    "print(a.minus(a.projection(b)))"
   ]
  },
  {
   "cell_type": "code",
   "execution_count": 37,
   "metadata": {},
   "outputs": [
    {
     "name": "stdout",
     "output_type": "stream",
     "text": [
      "4D Vector: 1.969, -2.811, 0.848, 2.680\n",
      "4D Vector: 1.040, -3.361, 2.844, -5.190\n"
     ]
    }
   ],
   "source": [
    "a = Vector([3.009, -6.172, 3.692, -2.51])\n",
    "b = Vector([6.404, -9.144, 2.759, 8.718])\n",
    "print(a.projection(b))\n",
    "print(a.minus(a.projection(b)))"
   ]
  },
  {
   "cell_type": "code",
   "execution_count": 15,
   "metadata": {
    "collapsed": true
   },
   "outputs": [],
   "source": [
    "#向量加法\n",
    "#向量点乘\n",
    "#向量夹角\n",
    "#向量投影"
   ]
  },
  {
   "cell_type": "code",
   "execution_count": 64,
   "metadata": {},
   "outputs": [
    {
     "name": "stdout",
     "output_type": "stream",
     "text": [
      "32\n",
      "{1, 2}\n",
      "32\n"
     ]
    }
   ],
   "source": [
    "a = [1,2,3]\n",
    "b = [4,5,6]\n",
    "print(set(map(len, [\"a\",\"ab\"])))\n",
    "\n",
    "print(reduce(lambda x,y:x + y, map(lambda x: x[0]*x[1], zip(a,b))))\n",
    "\n",
    "[[1,2,3],[4,5,6]]\n",
    "[1,4]\n",
    "\n",
    "\n",
    "print(reduce(lambda x,y:x+y, [x * y for x,y in zip(a,b)]))"
   ]
  },
  {
   "cell_type": "code",
   "execution_count": 52,
   "metadata": {},
   "outputs": [
    {
     "name": "stdout",
     "output_type": "stream",
     "text": [
      "[1, 4]\n"
     ]
    }
   ],
   "source": [
    "a = list(map(lambda x: x**2, [1,2]))\n",
    "print(a)"
   ]
  },
  {
   "cell_type": "code",
   "execution_count": null,
   "metadata": {
    "collapsed": true
   },
   "outputs": [],
   "source": []
  }
 ],
 "metadata": {
  "kernelspec": {
   "display_name": "Python 3",
   "language": "python",
   "name": "python3"
  },
  "language_info": {
   "codemirror_mode": {
    "name": "ipython",
    "version": 3
   },
   "file_extension": ".py",
   "mimetype": "text/x-python",
   "name": "python",
   "nbconvert_exporter": "python",
   "pygments_lexer": "ipython3",
   "version": "3.6.4"
  }
 },
 "nbformat": 4,
 "nbformat_minor": 2
}
